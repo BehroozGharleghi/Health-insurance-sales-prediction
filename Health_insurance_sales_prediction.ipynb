{
 "cells": [
  {
   "cell_type": "markdown",
   "metadata": {},
   "source": [
    "### The Story\n",
    "\n",
    "This is about an Insurance company that has provided Health Insurance to its customers, now the company needs help in building a model to predict whether the policyholders (customers) from past year will also be interested in Vehicle Insurance provided by the company again.\n",
    "\n",
    "Building a model to predict whether a customer would be interested in Vehicle Insurance is extremely helpful for the company because it can then accordingly plan its communication strategy to reach out to those customers and optimise its business model and revenue.\n",
    "\n",
    "Now, in order to predict, whether the customer would be interested in Vehicle insurance, I will use the below information: demographics (gender, age, region code type), Vehicles (Vehicle Age, Damage), and Policy (Premium, sourcing channel).\n",
    "\n",
    "Therefore we are interested to predict the response of the customer to take up the insurance (Probability of response 'yes' or '1'). The evaluation metric for this project is ROC_AUC score.\n",
    "\n",
    "Source of data: https://www.kaggle.com/anmolkumar/health-insurance-cross-sell-prediction?select=train.csv\n"
   ]
  },
  {
   "cell_type": "code",
   "execution_count": 92,
   "metadata": {},
   "outputs": [],
   "source": [
    "# importing the necessary libraries\n",
    "import pandas as pd\n",
    "import numpy as np\n",
    "import seaborn as sns\n",
    "import matplotlib.pyplot as plt\n",
    "import re"
   ]
  },
  {
   "cell_type": "code",
   "execution_count": 2,
   "metadata": {
    "scrolled": true
   },
   "outputs": [],
   "source": [
    "# lets import and explore the dataset:\n",
    "#insuranc = pd.read_csv('insurance_data.csv')\n",
    "#insuranc.head()\n"
   ]
  },
  {
   "cell_type": "code",
   "execution_count": 3,
   "metadata": {},
   "outputs": [],
   "source": [
    "# to select a small part of data set and save it into a new dataset:\n",
    "#insurance1=insuranc[:30000]\n",
    "#insur= insurance1.to_csv('insurance_data1.csv', index=False)\n"
   ]
  },
  {
   "cell_type": "code",
   "execution_count": 4,
   "metadata": {},
   "outputs": [
    {
     "data": {
      "text/html": [
       "<div>\n",
       "<style scoped>\n",
       "    .dataframe tbody tr th:only-of-type {\n",
       "        vertical-align: middle;\n",
       "    }\n",
       "\n",
       "    .dataframe tbody tr th {\n",
       "        vertical-align: top;\n",
       "    }\n",
       "\n",
       "    .dataframe thead th {\n",
       "        text-align: right;\n",
       "    }\n",
       "</style>\n",
       "<table border=\"1\" class=\"dataframe\">\n",
       "  <thead>\n",
       "    <tr style=\"text-align: right;\">\n",
       "      <th></th>\n",
       "      <th>id</th>\n",
       "      <th>Gender</th>\n",
       "      <th>Age</th>\n",
       "      <th>Driving_License</th>\n",
       "      <th>Region_Code</th>\n",
       "      <th>Previously_Insured</th>\n",
       "      <th>Vehicle_Age</th>\n",
       "      <th>Vehicle_Damage</th>\n",
       "      <th>Annual_Premium</th>\n",
       "      <th>Policy_Sales_Channel</th>\n",
       "      <th>Vintage</th>\n",
       "      <th>Response</th>\n",
       "    </tr>\n",
       "  </thead>\n",
       "  <tbody>\n",
       "    <tr>\n",
       "      <th>0</th>\n",
       "      <td>1</td>\n",
       "      <td>Male</td>\n",
       "      <td>44</td>\n",
       "      <td>1</td>\n",
       "      <td>28.0</td>\n",
       "      <td>0</td>\n",
       "      <td>&gt; 2 Years</td>\n",
       "      <td>Yes</td>\n",
       "      <td>40454.0</td>\n",
       "      <td>26.0</td>\n",
       "      <td>217</td>\n",
       "      <td>1</td>\n",
       "    </tr>\n",
       "    <tr>\n",
       "      <th>1</th>\n",
       "      <td>2</td>\n",
       "      <td>Male</td>\n",
       "      <td>76</td>\n",
       "      <td>1</td>\n",
       "      <td>3.0</td>\n",
       "      <td>0</td>\n",
       "      <td>1-2 Year</td>\n",
       "      <td>No</td>\n",
       "      <td>33536.0</td>\n",
       "      <td>26.0</td>\n",
       "      <td>183</td>\n",
       "      <td>0</td>\n",
       "    </tr>\n",
       "    <tr>\n",
       "      <th>2</th>\n",
       "      <td>3</td>\n",
       "      <td>Male</td>\n",
       "      <td>47</td>\n",
       "      <td>1</td>\n",
       "      <td>28.0</td>\n",
       "      <td>0</td>\n",
       "      <td>&gt; 2 Years</td>\n",
       "      <td>Yes</td>\n",
       "      <td>38294.0</td>\n",
       "      <td>26.0</td>\n",
       "      <td>27</td>\n",
       "      <td>1</td>\n",
       "    </tr>\n",
       "    <tr>\n",
       "      <th>3</th>\n",
       "      <td>4</td>\n",
       "      <td>Male</td>\n",
       "      <td>21</td>\n",
       "      <td>1</td>\n",
       "      <td>11.0</td>\n",
       "      <td>1</td>\n",
       "      <td>&lt; 1 Year</td>\n",
       "      <td>No</td>\n",
       "      <td>28619.0</td>\n",
       "      <td>152.0</td>\n",
       "      <td>203</td>\n",
       "      <td>0</td>\n",
       "    </tr>\n",
       "    <tr>\n",
       "      <th>4</th>\n",
       "      <td>5</td>\n",
       "      <td>Female</td>\n",
       "      <td>29</td>\n",
       "      <td>1</td>\n",
       "      <td>41.0</td>\n",
       "      <td>1</td>\n",
       "      <td>&lt; 1 Year</td>\n",
       "      <td>No</td>\n",
       "      <td>27496.0</td>\n",
       "      <td>152.0</td>\n",
       "      <td>39</td>\n",
       "      <td>0</td>\n",
       "    </tr>\n",
       "  </tbody>\n",
       "</table>\n",
       "</div>"
      ],
      "text/plain": [
       "   id  Gender  Age  Driving_License  Region_Code  Previously_Insured  \\\n",
       "0   1    Male   44                1         28.0                   0   \n",
       "1   2    Male   76                1          3.0                   0   \n",
       "2   3    Male   47                1         28.0                   0   \n",
       "3   4    Male   21                1         11.0                   1   \n",
       "4   5  Female   29                1         41.0                   1   \n",
       "\n",
       "  Vehicle_Age Vehicle_Damage  Annual_Premium  Policy_Sales_Channel  Vintage  \\\n",
       "0   > 2 Years            Yes         40454.0                  26.0      217   \n",
       "1    1-2 Year             No         33536.0                  26.0      183   \n",
       "2   > 2 Years            Yes         38294.0                  26.0       27   \n",
       "3    < 1 Year             No         28619.0                 152.0      203   \n",
       "4    < 1 Year             No         27496.0                 152.0       39   \n",
       "\n",
       "   Response  \n",
       "0         1  \n",
       "1         0  \n",
       "2         1  \n",
       "3         0  \n",
       "4         0  "
      ]
     },
     "execution_count": 4,
     "metadata": {},
     "output_type": "execute_result"
    }
   ],
   "source": [
    "# to read the data:\n",
    "insurance = pd.read_csv('insurance_data1.csv')\n",
    "insurance.head()"
   ]
  },
  {
   "cell_type": "code",
   "execution_count": 5,
   "metadata": {},
   "outputs": [],
   "source": [
    "#insurance['Region_Code'].value_counts(np.where(insurance['Region_Code']==28)"
   ]
  },
  {
   "cell_type": "code",
   "execution_count": 6,
   "metadata": {},
   "outputs": [
    {
     "data": {
      "text/plain": [
       "id                      0\n",
       "Gender                  0\n",
       "Age                     0\n",
       "Driving_License         0\n",
       "Region_Code             0\n",
       "Previously_Insured      0\n",
       "Vehicle_Age             0\n",
       "Vehicle_Damage          0\n",
       "Annual_Premium          0\n",
       "Policy_Sales_Channel    0\n",
       "Vintage                 0\n",
       "Response                0\n",
       "dtype: int64"
      ]
     },
     "execution_count": 6,
     "metadata": {},
     "output_type": "execute_result"
    }
   ],
   "source": [
    "# to check on the missing values\n",
    "insurance.isnull().sum()"
   ]
  },
  {
   "cell_type": "code",
   "execution_count": 7,
   "metadata": {},
   "outputs": [
    {
     "name": "stdout",
     "output_type": "stream",
     "text": [
      "<class 'pandas.core.frame.DataFrame'>\n",
      "RangeIndex: 30000 entries, 0 to 29999\n",
      "Data columns (total 12 columns):\n",
      " #   Column                Non-Null Count  Dtype  \n",
      "---  ------                --------------  -----  \n",
      " 0   id                    30000 non-null  int64  \n",
      " 1   Gender                30000 non-null  object \n",
      " 2   Age                   30000 non-null  int64  \n",
      " 3   Driving_License       30000 non-null  int64  \n",
      " 4   Region_Code           30000 non-null  float64\n",
      " 5   Previously_Insured    30000 non-null  int64  \n",
      " 6   Vehicle_Age           30000 non-null  object \n",
      " 7   Vehicle_Damage        30000 non-null  object \n",
      " 8   Annual_Premium        30000 non-null  float64\n",
      " 9   Policy_Sales_Channel  30000 non-null  float64\n",
      " 10  Vintage               30000 non-null  int64  \n",
      " 11  Response              30000 non-null  int64  \n",
      "dtypes: float64(3), int64(6), object(3)\n",
      "memory usage: 2.7+ MB\n"
     ]
    }
   ],
   "source": [
    "# to see the data types and more information\n",
    "insurance.info()"
   ]
  },
  {
   "cell_type": "code",
   "execution_count": 8,
   "metadata": {},
   "outputs": [],
   "source": [
    "# drop 'id' and 'Region_Code'column and then add it later: \n",
    "#new_df2['id'] = insurance['id']\n",
    "#new_df2['Region_Code'] = insurance['Region_Code']\n",
    "\n",
    "\n",
    "#insurance.drop(['id','Region_Code' ], axis=1, inplace=True)"
   ]
  },
  {
   "cell_type": "code",
   "execution_count": 9,
   "metadata": {},
   "outputs": [
    {
     "data": {
      "text/html": [
       "<div>\n",
       "<style scoped>\n",
       "    .dataframe tbody tr th:only-of-type {\n",
       "        vertical-align: middle;\n",
       "    }\n",
       "\n",
       "    .dataframe tbody tr th {\n",
       "        vertical-align: top;\n",
       "    }\n",
       "\n",
       "    .dataframe thead th {\n",
       "        text-align: right;\n",
       "    }\n",
       "</style>\n",
       "<table border=\"1\" class=\"dataframe\">\n",
       "  <thead>\n",
       "    <tr style=\"text-align: right;\">\n",
       "      <th></th>\n",
       "      <th>Gender</th>\n",
       "      <th>Vehicle_Age</th>\n",
       "      <th>Vehicle_Damage</th>\n",
       "    </tr>\n",
       "  </thead>\n",
       "  <tbody>\n",
       "    <tr>\n",
       "      <th>0</th>\n",
       "      <td>Male</td>\n",
       "      <td>&gt; 2 Years</td>\n",
       "      <td>Yes</td>\n",
       "    </tr>\n",
       "    <tr>\n",
       "      <th>1</th>\n",
       "      <td>Male</td>\n",
       "      <td>1-2 Year</td>\n",
       "      <td>No</td>\n",
       "    </tr>\n",
       "    <tr>\n",
       "      <th>2</th>\n",
       "      <td>Male</td>\n",
       "      <td>&gt; 2 Years</td>\n",
       "      <td>Yes</td>\n",
       "    </tr>\n",
       "    <tr>\n",
       "      <th>3</th>\n",
       "      <td>Male</td>\n",
       "      <td>&lt; 1 Year</td>\n",
       "      <td>No</td>\n",
       "    </tr>\n",
       "    <tr>\n",
       "      <th>4</th>\n",
       "      <td>Female</td>\n",
       "      <td>&lt; 1 Year</td>\n",
       "      <td>No</td>\n",
       "    </tr>\n",
       "    <tr>\n",
       "      <th>...</th>\n",
       "      <td>...</td>\n",
       "      <td>...</td>\n",
       "      <td>...</td>\n",
       "    </tr>\n",
       "    <tr>\n",
       "      <th>29995</th>\n",
       "      <td>Male</td>\n",
       "      <td>&lt; 1 Year</td>\n",
       "      <td>No</td>\n",
       "    </tr>\n",
       "    <tr>\n",
       "      <th>29996</th>\n",
       "      <td>Male</td>\n",
       "      <td>&lt; 1 Year</td>\n",
       "      <td>Yes</td>\n",
       "    </tr>\n",
       "    <tr>\n",
       "      <th>29997</th>\n",
       "      <td>Female</td>\n",
       "      <td>&lt; 1 Year</td>\n",
       "      <td>No</td>\n",
       "    </tr>\n",
       "    <tr>\n",
       "      <th>29998</th>\n",
       "      <td>Male</td>\n",
       "      <td>&lt; 1 Year</td>\n",
       "      <td>No</td>\n",
       "    </tr>\n",
       "    <tr>\n",
       "      <th>29999</th>\n",
       "      <td>Male</td>\n",
       "      <td>1-2 Year</td>\n",
       "      <td>No</td>\n",
       "    </tr>\n",
       "  </tbody>\n",
       "</table>\n",
       "<p>30000 rows × 3 columns</p>\n",
       "</div>"
      ],
      "text/plain": [
       "       Gender Vehicle_Age Vehicle_Damage\n",
       "0        Male   > 2 Years            Yes\n",
       "1        Male    1-2 Year             No\n",
       "2        Male   > 2 Years            Yes\n",
       "3        Male    < 1 Year             No\n",
       "4      Female    < 1 Year             No\n",
       "...       ...         ...            ...\n",
       "29995    Male    < 1 Year             No\n",
       "29996    Male    < 1 Year            Yes\n",
       "29997  Female    < 1 Year             No\n",
       "29998    Male    < 1 Year             No\n",
       "29999    Male    1-2 Year             No\n",
       "\n",
       "[30000 rows x 3 columns]"
      ]
     },
     "execution_count": 9,
     "metadata": {},
     "output_type": "execute_result"
    }
   ],
   "source": [
    "# to see the object columns\n",
    "insurence_object=insurance.select_dtypes(include=['object'])\n",
    "insurence_object"
   ]
  },
  {
   "cell_type": "code",
   "execution_count": 10,
   "metadata": {},
   "outputs": [],
   "source": [
    "# to apply label encoder to the selected columns:\n",
    "from sklearn.preprocessing import LabelEncoder\n",
    "\n",
    "le = LabelEncoder()\n",
    "insurance.Gender= le.fit_transform(insurance.Gender.values)\n",
    "insurance.Vehicle_Damage= le.fit_transform(insurance.Vehicle_Damage.values)\n"
   ]
  },
  {
   "cell_type": "code",
   "execution_count": 11,
   "metadata": {
    "scrolled": false
   },
   "outputs": [],
   "source": [
    "# to see the corr of selected columns\n",
    "#insurance[['Driving_License','Previously_Insured']].corr()"
   ]
  },
  {
   "cell_type": "code",
   "execution_count": 12,
   "metadata": {},
   "outputs": [
    {
     "data": {
      "text/plain": [
       "<matplotlib.axes._subplots.AxesSubplot at 0x7fb70b9af910>"
      ]
     },
     "execution_count": 12,
     "metadata": {},
     "output_type": "execute_result"
    },
    {
     "data": {
      "image/png": "[encoded data removed]",
      "text/plain": [
       "<Figure size 720x720 with 2 Axes>"
      ]
     },
     "metadata": {
      "needs_background": "light"
     },
     "output_type": "display_data"
    }
   ],
   "source": [
    "# correlation of selected variables:\n",
    "f, b = plt.subplots(figsize=(10,10))\n",
    "corr = insurance[['Age', 'Gender', 'Driving_License',\n",
    "       'Previously_Insured', 'Vehicle_Damage', 'Annual_Premium', 'Vintage', 'Response']].corr()\n",
    "\n",
    "mask = np.triu(np.ones_like(corr, dtype=bool))\n",
    "sns.heatmap(corr, mask=mask, linewidth=0.3, square=True, annot=True)"
   ]
  },
  {
   "cell_type": "code",
   "execution_count": 13,
   "metadata": {},
   "outputs": [
    {
     "name": "stdout",
     "output_type": "stream",
     "text": [
      "[]\n",
      "[]\n"
     ]
    }
   ],
   "source": [
    "# to drop the columns if their corrlation is above .95:\n",
    "\n",
    "# Select upper triangle of correlation matrix\n",
    "upper = corr.where(np.triu(np.ones(corr.shape), k=1).astype(np.bool))\n",
    "\n",
    "# Find index of feature columns with correlation greater than 0.95\n",
    "to_drop = [column for column in upper.columns if any(upper[column] < -0.95)]\n",
    "to_drop1 = [column for column in upper.columns if any(upper[column] > 0.95)]\n",
    "\n",
    "print(to_drop)\n",
    "print(to_drop1)"
   ]
  },
  {
   "cell_type": "code",
   "execution_count": 14,
   "metadata": {},
   "outputs": [],
   "source": [
    "# apply oneHotEncoder\n",
    "#from sklearn.preprocessing import OneHotEncoder                              \n",
    "                              \n",
    "#enc = OneHotEncoder() # here is (), we can write drop='first' to drop one variable\n",
    "#categorical = pd.DataFrame(enc.fit_transform(insurance[['Vehicle_Age']]).toarray(), columns = enc.get_feature_names())\n",
    "#categorical.head()"
   ]
  },
  {
   "cell_type": "code",
   "execution_count": 15,
   "metadata": {},
   "outputs": [
    {
     "data": {
      "text/plain": [
       "1-2 Year     15674\n",
       "< 1 Year     13057\n",
       "> 2 Years     1269\n",
       "Name: Vehicle_Age, dtype: int64"
      ]
     },
     "execution_count": 15,
     "metadata": {},
     "output_type": "execute_result"
    }
   ],
   "source": [
    "insurance['Vehicle_Age'].value_counts()"
   ]
  },
  {
   "cell_type": "code",
   "execution_count": 16,
   "metadata": {
    "scrolled": true
   },
   "outputs": [],
   "source": [
    "# to decode and get dummies:\n",
    "\n",
    "dummies= pd.get_dummies(insurance['Vehicle_Age'])\n",
    "insurance_1 = pd.concat([insurance, dummies], axis=1).drop(['Vehicle_Age'], axis=1)\n"
   ]
  },
  {
   "cell_type": "code",
   "execution_count": 17,
   "metadata": {},
   "outputs": [],
   "source": [
    "insurance_1.drop(['> 2 Years'], axis=1, inplace=True)"
   ]
  },
  {
   "cell_type": "code",
   "execution_count": 18,
   "metadata": {},
   "outputs": [
    {
     "data": {
      "text/plain": [
       "0    26285\n",
       "1     3715\n",
       "Name: Response, dtype: int64"
      ]
     },
     "execution_count": 18,
     "metadata": {},
     "output_type": "execute_result"
    }
   ],
   "source": [
    "insurance_1['Response'].value_counts()"
   ]
  },
  {
   "cell_type": "code",
   "execution_count": 19,
   "metadata": {
    "scrolled": true
   },
   "outputs": [
    {
     "data": {
      "text/html": [
       "<div>\n",
       "<style scoped>\n",
       "    .dataframe tbody tr th:only-of-type {\n",
       "        vertical-align: middle;\n",
       "    }\n",
       "\n",
       "    .dataframe tbody tr th {\n",
       "        vertical-align: top;\n",
       "    }\n",
       "\n",
       "    .dataframe thead th {\n",
       "        text-align: right;\n",
       "    }\n",
       "</style>\n",
       "<table border=\"1\" class=\"dataframe\">\n",
       "  <thead>\n",
       "    <tr style=\"text-align: right;\">\n",
       "      <th></th>\n",
       "      <th>id</th>\n",
       "      <th>Gender</th>\n",
       "      <th>Age</th>\n",
       "      <th>Driving_License</th>\n",
       "      <th>Region_Code</th>\n",
       "      <th>Previously_Insured</th>\n",
       "      <th>Vehicle_Damage</th>\n",
       "      <th>Annual_Premium</th>\n",
       "      <th>Policy_Sales_Channel</th>\n",
       "      <th>Vintage</th>\n",
       "      <th>Response</th>\n",
       "      <th>1-2 Year</th>\n",
       "      <th>&lt; 1 Year</th>\n",
       "    </tr>\n",
       "  </thead>\n",
       "  <tbody>\n",
       "    <tr>\n",
       "      <th>0</th>\n",
       "      <td>1</td>\n",
       "      <td>1</td>\n",
       "      <td>44</td>\n",
       "      <td>1</td>\n",
       "      <td>28.0</td>\n",
       "      <td>0</td>\n",
       "      <td>1</td>\n",
       "      <td>40454.0</td>\n",
       "      <td>26.0</td>\n",
       "      <td>217</td>\n",
       "      <td>1</td>\n",
       "      <td>0</td>\n",
       "      <td>0</td>\n",
       "    </tr>\n",
       "    <tr>\n",
       "      <th>1</th>\n",
       "      <td>2</td>\n",
       "      <td>1</td>\n",
       "      <td>76</td>\n",
       "      <td>1</td>\n",
       "      <td>3.0</td>\n",
       "      <td>0</td>\n",
       "      <td>0</td>\n",
       "      <td>33536.0</td>\n",
       "      <td>26.0</td>\n",
       "      <td>183</td>\n",
       "      <td>0</td>\n",
       "      <td>1</td>\n",
       "      <td>0</td>\n",
       "    </tr>\n",
       "    <tr>\n",
       "      <th>2</th>\n",
       "      <td>3</td>\n",
       "      <td>1</td>\n",
       "      <td>47</td>\n",
       "      <td>1</td>\n",
       "      <td>28.0</td>\n",
       "      <td>0</td>\n",
       "      <td>1</td>\n",
       "      <td>38294.0</td>\n",
       "      <td>26.0</td>\n",
       "      <td>27</td>\n",
       "      <td>1</td>\n",
       "      <td>0</td>\n",
       "      <td>0</td>\n",
       "    </tr>\n",
       "    <tr>\n",
       "      <th>3</th>\n",
       "      <td>4</td>\n",
       "      <td>1</td>\n",
       "      <td>21</td>\n",
       "      <td>1</td>\n",
       "      <td>11.0</td>\n",
       "      <td>1</td>\n",
       "      <td>0</td>\n",
       "      <td>28619.0</td>\n",
       "      <td>152.0</td>\n",
       "      <td>203</td>\n",
       "      <td>0</td>\n",
       "      <td>0</td>\n",
       "      <td>1</td>\n",
       "    </tr>\n",
       "    <tr>\n",
       "      <th>4</th>\n",
       "      <td>5</td>\n",
       "      <td>0</td>\n",
       "      <td>29</td>\n",
       "      <td>1</td>\n",
       "      <td>41.0</td>\n",
       "      <td>1</td>\n",
       "      <td>0</td>\n",
       "      <td>27496.0</td>\n",
       "      <td>152.0</td>\n",
       "      <td>39</td>\n",
       "      <td>0</td>\n",
       "      <td>0</td>\n",
       "      <td>1</td>\n",
       "    </tr>\n",
       "  </tbody>\n",
       "</table>\n",
       "</div>"
      ],
      "text/plain": [
       "   id  Gender  Age  Driving_License  Region_Code  Previously_Insured  \\\n",
       "0   1       1   44                1         28.0                   0   \n",
       "1   2       1   76                1          3.0                   0   \n",
       "2   3       1   47                1         28.0                   0   \n",
       "3   4       1   21                1         11.0                   1   \n",
       "4   5       0   29                1         41.0                   1   \n",
       "\n",
       "   Vehicle_Damage  Annual_Premium  Policy_Sales_Channel  Vintage  Response  \\\n",
       "0               1         40454.0                  26.0      217         1   \n",
       "1               0         33536.0                  26.0      183         0   \n",
       "2               1         38294.0                  26.0       27         1   \n",
       "3               0         28619.0                 152.0      203         0   \n",
       "4               0         27496.0                 152.0       39         0   \n",
       "\n",
       "   1-2 Year  < 1 Year  \n",
       "0         0         0  \n",
       "1         1         0  \n",
       "2         0         0  \n",
       "3         0         1  \n",
       "4         0         1  "
      ]
     },
     "execution_count": 19,
     "metadata": {},
     "output_type": "execute_result"
    }
   ],
   "source": [
    "insurance_1.head()"
   ]
  },
  {
   "cell_type": "code",
   "execution_count": 20,
   "metadata": {},
   "outputs": [
    {
     "data": {
      "text/plain": [
       "Index(['id', 'Gender', 'Age', 'Driving_License', 'Region_Code',\n",
       "       'Previously_Insured', 'Vehicle_Damage', 'Annual_Premium',\n",
       "       'Policy_Sales_Channel', 'Vintage', 'Response', 'VA_1_2_year',\n",
       "       'VA_below_1_year'],\n",
       "      dtype='object')"
      ]
     },
     "execution_count": 20,
     "metadata": {},
     "output_type": "execute_result"
    }
   ],
   "source": [
    "# to rename the columns:\n",
    "insurance_1.rename(columns={'1-2 Year':'VA_1_2_year', '< 1 Year':'VA_below_1_year'}, inplace=True)\n",
    "insurance_1.columns"
   ]
  },
  {
   "cell_type": "markdown",
   "metadata": {},
   "source": [
    "### Dataset with Standard Scaler \n",
    "Standardize features to mean zero and variance one. "
   ]
  },
  {
   "cell_type": "code",
   "execution_count": 21,
   "metadata": {},
   "outputs": [],
   "source": [
    "from sklearn.preprocessing import StandardScaler\n",
    "to_transform = insurance_1[['Age', 'Annual_Premium','Vintage']]\n",
    "# to select number type columns: data_num = insurance_2.select_dtypes(include=np.number)\n",
    "transfor = StandardScaler().fit(to_transform)\n",
    "transform_data= transfor.transform(to_transform)\n",
    "transform = pd.DataFrame(transform_data, columns = to_transform.columns)\n",
    "transform.head()\n",
    "to_select = insurance_1[['Gender', 'Driving_License',\n",
    "       'Previously_Insured', 'Vehicle_Damage', 'Response', 'VA_1_2_year',\n",
    "       'VA_below_1_year']]\n",
    "\n",
    "insurance_2=pd.concat([transform, to_select], axis=1)"
   ]
  },
  {
   "cell_type": "markdown",
   "metadata": {},
   "source": [
    "### Dataset with Feature Scaling\n",
    "This method delas with outliers. This Scaler removes the median and scales the data according to the quantile range (defaults to IQR: Interquartile Range). The IQR is the range between the 1st quartile (25th quantile) and the 3rd quartile (75th quantile). Centering and scaling happen independently on each feature by computing the relevant statistics on the samples in the training set. Median and interquartile range are then stored to be used on later data using the transform method. Outliers can often influence the sample mean / variance in a negative way. Therefore, the median and the interquartile range often give better results as compared to StandardScaler."
   ]
  },
  {
   "cell_type": "code",
   "execution_count": 22,
   "metadata": {},
   "outputs": [],
   "source": [
    "from sklearn.preprocessing import RobustScaler\n",
    "\n",
    "to_fs = insurance_1[['Age','Annual_Premium','Vintage']]\n",
    "to_fs_data= RobustScaler().fit(to_fs)\n",
    "to_fs_data1 = to_fs_data.transform(to_fs)\n",
    "fs_data = pd.DataFrame(to_fs_data1, columns= to_fs.columns)\n",
    "\n",
    "insurance_3 = pd.concat([fs_data, to_select], axis=1)\n"
   ]
  },
  {
   "cell_type": "markdown",
   "metadata": {},
   "source": [
    "### Modeling, Prediction, and Evaluation\n"
   ]
  },
  {
   "cell_type": "code",
   "execution_count": 23,
   "metadata": {},
   "outputs": [],
   "source": [
    "# slpit the data into 80% & 20%\n",
    "\n",
    "from sklearn.model_selection import train_test_split \n",
    "\n",
    "y=insurance_1['Response']\n",
    "\n",
    "X=insurance_1[['Age','Annual_Premium','Vintage',\n",
    "               'Gender','Driving_License', 'Previously_Insured', \n",
    "               'Vehicle_Damage', 'VA_1_2_year','VA_below_1_year']]\n",
    "\n",
    "X_train, X_test, y_train, y_test = train_test_split(X, y, test_size=0.2, random_state=100)\n"
   ]
  },
  {
   "cell_type": "markdown",
   "metadata": {},
   "source": [
    "#### Application of Logistic Regression on original dataset (not transformed, not normalised)"
   ]
  },
  {
   "cell_type": "code",
   "execution_count": 24,
   "metadata": {},
   "outputs": [
    {
     "data": {
      "text/plain": [
       "0    5994\n",
       "1       6\n",
       "Name: response_pred, dtype: int64"
      ]
     },
     "execution_count": 24,
     "metadata": {},
     "output_type": "execute_result"
    }
   ],
   "source": [
    "from sklearn.linear_model import LogisticRegression \n",
    "\n",
    "logistic_model=LogisticRegression().fit(X_train, y_train)\n",
    "response_pred=logistic_model.predict(X_test)\n",
    "response_pred = pd.Series(response_pred)\n",
    "\n",
    "y_pred = pd.Series(response_pred, name='response_pred').value_counts()\n",
    "y_tes = y_test.value_counts()\n",
    "\n",
    "y_pred"
   ]
  },
  {
   "cell_type": "code",
   "execution_count": 25,
   "metadata": {},
   "outputs": [
    {
     "data": {
      "text/html": [
       "<div>\n",
       "<style scoped>\n",
       "    .dataframe tbody tr th:only-of-type {\n",
       "        vertical-align: middle;\n",
       "    }\n",
       "\n",
       "    .dataframe tbody tr th {\n",
       "        vertical-align: top;\n",
       "    }\n",
       "\n",
       "    .dataframe thead th {\n",
       "        text-align: right;\n",
       "    }\n",
       "</style>\n",
       "<table border=\"1\" class=\"dataframe\">\n",
       "  <thead>\n",
       "    <tr style=\"text-align: right;\">\n",
       "      <th></th>\n",
       "      <th>Response</th>\n",
       "      <th>response_pred</th>\n",
       "    </tr>\n",
       "  </thead>\n",
       "  <tbody>\n",
       "    <tr>\n",
       "      <th>0</th>\n",
       "      <td>5286</td>\n",
       "      <td>5994</td>\n",
       "    </tr>\n",
       "    <tr>\n",
       "      <th>1</th>\n",
       "      <td>714</td>\n",
       "      <td>6</td>\n",
       "    </tr>\n",
       "  </tbody>\n",
       "</table>\n",
       "</div>"
      ],
      "text/plain": [
       "   Response  response_pred\n",
       "0      5286           5994\n",
       "1       714              6"
      ]
     },
     "execution_count": 25,
     "metadata": {},
     "output_type": "execute_result"
    }
   ],
   "source": [
    "pd.concat([y_tes, y_pred], axis=1)\n"
   ]
  },
  {
   "cell_type": "code",
   "execution_count": 26,
   "metadata": {},
   "outputs": [
    {
     "data": {
      "text/plain": [
       "<matplotlib.axes._subplots.AxesSubplot at 0x7fb70d6660a0>"
      ]
     },
     "execution_count": 26,
     "metadata": {},
     "output_type": "execute_result"
    },
    {
     "data": {
      "image/png": "[encoded data removed]",
      "text/plain": [
       "<Figure size 432x288 with 2 Axes>"
      ]
     },
     "metadata": {
      "needs_background": "light"
     },
     "output_type": "display_data"
    }
   ],
   "source": [
    "from sklearn.metrics import confusion_matrix\n",
    "\n",
    "cf_matrix_lr = confusion_matrix(y_test, response_pred)\n",
    "sns.heatmap(cf_matrix_lr/np.sum(cf_matrix_lr), annot=True, fmt='.2%', cmap='Blues')\n"
   ]
  },
  {
   "cell_type": "code",
   "execution_count": 27,
   "metadata": {},
   "outputs": [
    {
     "name": "stdout",
     "output_type": "stream",
     "text": [
      "0.3333333333333333\n",
      "0.0028011204481792717\n",
      "0.005555555555555556\n"
     ]
    }
   ],
   "source": [
    "from sklearn.metrics import precision_score, recall_score, f1_score\n",
    "\n",
    "print(precision_score(y_test, response_pred, pos_label=1))\n",
    "print(recall_score(y_test, response_pred, pos_label=1))\n",
    "print(f1_score(y_test, response_pred, pos_label=1))"
   ]
  },
  {
   "cell_type": "code",
   "execution_count": 28,
   "metadata": {},
   "outputs": [
    {
     "name": "stdout",
     "output_type": "stream",
     "text": [
      "Accuracy score of the logistic regression is:  0.8806666666666667\n"
     ]
    }
   ],
   "source": [
    "# Accuracy score of the Logistic Regression:\n",
    "from sklearn.metrics import accuracy_score\n",
    "\n",
    "print('Accuracy score of the logistic regression is: ', logistic_model.score(X_test, y_test))"
   ]
  },
  {
   "cell_type": "code",
   "execution_count": 29,
   "metadata": {},
   "outputs": [
    {
     "name": "stdout",
     "output_type": "stream",
     "text": [
      "accuracy score is:  0.8806666666666667\n"
     ]
    }
   ],
   "source": [
    "# another way of accuracy score:\n",
    "print ('accuracy score is: ', accuracy_score(y_test, response_pred))\n"
   ]
  },
  {
   "cell_type": "markdown",
   "metadata": {},
   "source": [
    "I applied the Logistic Regression to the StandardScaled data, but the result did not improve, so i applied the FeatureScaled data to see the improvement:"
   ]
  },
  {
   "cell_type": "code",
   "execution_count": 30,
   "metadata": {},
   "outputs": [],
   "source": [
    "y=insurance_3['Response']\n",
    "\n",
    "X=insurance_3[['Age','Annual_Premium','Vintage',\n",
    "               'Gender','Driving_License', 'Previously_Insured', \n",
    "               'Vehicle_Damage', 'VA_1_2_year','VA_below_1_year']]\n",
    "\n",
    "X_train_fs, X_test_fs, y_train_fs, y_test_fs = train_test_split(X, y, test_size=0.3, random_state=100)\n"
   ]
  },
  {
   "cell_type": "code",
   "execution_count": 31,
   "metadata": {},
   "outputs": [
    {
     "data": {
      "text/plain": [
       "0    8999\n",
       "1       1\n",
       "dtype: int64"
      ]
     },
     "execution_count": 31,
     "metadata": {},
     "output_type": "execute_result"
    }
   ],
   "source": [
    "log_reg_fs = LogisticRegression().fit(X_train_fs, y_train_fs)\n",
    "log_reg_fs_predict = log_reg_fs.predict(X_test_fs)\n",
    "\n",
    "y_fs_pred = pd.Series(log_reg_fs_predict).value_counts()\n",
    "y_fs_pred"
   ]
  },
  {
   "cell_type": "markdown",
   "metadata": {},
   "source": [
    "### In order to improve the model performance, we emply the decision tree model on the original data set without transormation"
   ]
  },
  {
   "cell_type": "code",
   "execution_count": 32,
   "metadata": {},
   "outputs": [],
   "source": [
    "# use of original data:\n",
    "from sklearn.tree import DecisionTreeClassifier\n",
    "\n",
    "decision_reg = DecisionTreeClassifier(random_state=100).fit(X_train, y_train)\n",
    "decision_predict = decision_reg.predict(X_test)\n",
    "\n",
    "response_precidt = pd.Series(decision_predict, name='response_pred').value_counts()"
   ]
  },
  {
   "cell_type": "code",
   "execution_count": 33,
   "metadata": {},
   "outputs": [
    {
     "data": {
      "text/html": [
       "<div>\n",
       "<style scoped>\n",
       "    .dataframe tbody tr th:only-of-type {\n",
       "        vertical-align: middle;\n",
       "    }\n",
       "\n",
       "    .dataframe tbody tr th {\n",
       "        vertical-align: top;\n",
       "    }\n",
       "\n",
       "    .dataframe thead th {\n",
       "        text-align: right;\n",
       "    }\n",
       "</style>\n",
       "<table border=\"1\" class=\"dataframe\">\n",
       "  <thead>\n",
       "    <tr style=\"text-align: right;\">\n",
       "      <th></th>\n",
       "      <th>Response</th>\n",
       "      <th>response_pred</th>\n",
       "    </tr>\n",
       "  </thead>\n",
       "  <tbody>\n",
       "    <tr>\n",
       "      <th>0</th>\n",
       "      <td>5286</td>\n",
       "      <td>5190</td>\n",
       "    </tr>\n",
       "    <tr>\n",
       "      <th>1</th>\n",
       "      <td>714</td>\n",
       "      <td>810</td>\n",
       "    </tr>\n",
       "  </tbody>\n",
       "</table>\n",
       "</div>"
      ],
      "text/plain": [
       "   Response  response_pred\n",
       "0      5286           5190\n",
       "1       714            810"
      ]
     },
     "execution_count": 33,
     "metadata": {},
     "output_type": "execute_result"
    }
   ],
   "source": [
    "pd.concat([y_tes, response_precidt], axis=1)\n"
   ]
  },
  {
   "cell_type": "code",
   "execution_count": 34,
   "metadata": {},
   "outputs": [
    {
     "data": {
      "text/plain": [
       "0.8143333333333334"
      ]
     },
     "execution_count": 34,
     "metadata": {},
     "output_type": "execute_result"
    }
   ],
   "source": [
    "decision_reg.score(X_test, y_test)"
   ]
  },
  {
   "cell_type": "code",
   "execution_count": 35,
   "metadata": {},
   "outputs": [
    {
     "data": {
      "text/plain": [
       "0.8143333333333334"
      ]
     },
     "execution_count": 35,
     "metadata": {},
     "output_type": "execute_result"
    }
   ],
   "source": [
    "accuracy_score(y_test, decision_predict)"
   ]
  },
  {
   "cell_type": "code",
   "execution_count": 36,
   "metadata": {},
   "outputs": [
    {
     "data": {
      "text/plain": [
       "array([3.66987354e-02, 6.68796616e-02, 7.33183964e-02, 6.63810516e-03,\n",
       "       4.72485354e-05, 2.44880656e-03, 2.74844839e-02, 3.05246165e-03,\n",
       "       1.09181954e-03])"
      ]
     },
     "execution_count": 36,
     "metadata": {},
     "output_type": "execute_result"
    }
   ],
   "source": [
    "# feature importance Decision Tree (the higher value of \n",
    "#feature_importance mean the more important the feature):\n",
    "\n",
    "decision_reg.tree_.compute_feature_importances(normalize=False)\n"
   ]
  },
  {
   "cell_type": "code",
   "execution_count": 37,
   "metadata": {
    "scrolled": true
   },
   "outputs": [
    {
     "name": "stdout",
     "output_type": "stream",
     "text": [
      "{'Age': 0.03669873537662109, 'Annual_Premium': 0.06687966164744821, 'Vintage': 0.07331839637653878, 'Gender': 0.006638105156722779, 'Driving_License': 4.7248535364088794e-05, 'Previously_Insured': 0.002448806564827536, 'Vehicle_Damage': 0.027484483906578816, 'VA_1_2_year': 0.0030524616457357637, 'VA_below_1_year': 0.0010918195401627999}\n"
     ]
    }
   ],
   "source": [
    "print(dict(zip(X.columns, decision_reg.tree_.compute_feature_importances(normalize=False))))"
   ]
  },
  {
   "cell_type": "markdown",
   "metadata": {},
   "source": [
    "the rank of features: Vintage, annual premium, age, vehicle damage, gender, 1-2 years old, previously insured, <1year, driving license."
   ]
  },
  {
   "cell_type": "code",
   "execution_count": 38,
   "metadata": {},
   "outputs": [
    {
     "data": {
      "image/png": "[encoded data removed]",
      "text/plain": [
       "<Figure size 1080x432 with 1 Axes>"
      ]
     },
     "metadata": {
      "needs_background": "light"
     },
     "output_type": "display_data"
    }
   ],
   "source": [
    "plt.rcParams['figure.figsize'] = [15, 6]\n",
    "plt.bar(height = decision_reg.feature_importances_, x = X.columns)\n",
    "plt.show()"
   ]
  },
  {
   "cell_type": "code",
   "execution_count": 39,
   "metadata": {
    "scrolled": false
   },
   "outputs": [],
   "source": [
    "#https://mljar.com/blog/visualize-decision-tree/#:~:text=A%20Decision%20Tree%20is%20a,presented%20in%20the%20tree%20leaves.&text=Classification%20trees%20used%20to%20classify,limited%20set%20of%20values%20%2D%20classes\n",
    "\n",
    "from sklearn import tree\n",
    "text_representation = tree.export_text(decision_reg)\n",
    "#print(text_representation)"
   ]
  },
  {
   "cell_type": "code",
   "execution_count": 40,
   "metadata": {},
   "outputs": [
    {
     "data": {
      "text/plain": [
       "\"fig = plt.figure(figsize=(25,20))\\n_ = tree.plot_tree(decision_reg, \\n                   feature_names=X.columns,  \\n                   class_names='response',\\n                   filled=True)\\n_\""
      ]
     },
     "execution_count": 40,
     "metadata": {},
     "output_type": "execute_result"
    }
   ],
   "source": [
    "#from sklearn import plot_tree\n",
    "\n",
    "\"\"\"fig = plt.figure(figsize=(25,20))\n",
    "_ = tree.plot_tree(decision_reg, \n",
    "                   feature_names=X.columns,  \n",
    "                   class_names='response',\n",
    "                   filled=True)\n",
    "_\"\"\""
   ]
  },
  {
   "cell_type": "code",
   "execution_count": 41,
   "metadata": {},
   "outputs": [],
   "source": [
    "#decision_reg.feature_importances_"
   ]
  },
  {
   "cell_type": "markdown",
   "metadata": {},
   "source": [
    "## Model Evaluation"
   ]
  },
  {
   "cell_type": "markdown",
   "metadata": {},
   "source": [
    "### Creatre Confusion_matrix for Decision Tree"
   ]
  },
  {
   "cell_type": "code",
   "execution_count": 42,
   "metadata": {},
   "outputs": [
    {
     "name": "stdout",
     "output_type": "stream",
     "text": [
      "[[4681  605]\n",
      " [ 509  205]]\n"
     ]
    }
   ],
   "source": [
    "\n",
    "cf_matrix = confusion_matrix(y_test, decision_predict)\n",
    "print(cf_matrix)"
   ]
  },
  {
   "cell_type": "code",
   "execution_count": 43,
   "metadata": {},
   "outputs": [
    {
     "data": {
      "text/plain": [
       "<matplotlib.axes._subplots.AxesSubplot at 0x7fb70ddaeb80>"
      ]
     },
     "execution_count": 43,
     "metadata": {},
     "output_type": "execute_result"
    },
    {
     "data": {
      "image/png": "[encoded data removed]",
      "text/plain": [
       "<Figure size 1080x432 with 2 Axes>"
      ]
     },
     "metadata": {
      "needs_background": "light"
     },
     "output_type": "display_data"
    }
   ],
   "source": [
    "sns.heatmap(cf_matrix/np.sum(cf_matrix), annot=True, fmt='.2%', cmap='Blues')\n"
   ]
  },
  {
   "cell_type": "code",
   "execution_count": 44,
   "metadata": {},
   "outputs": [
    {
     "name": "stdout",
     "output_type": "stream",
     "text": [
      "0.25308641975308643\n",
      "0.28711484593837533\n",
      "0.26902887139107606\n"
     ]
    }
   ],
   "source": [
    "# We need to assign which is the 'positive class'. Here, we are trying to predict whether a customer will run into\n",
    "# problems repaying their loan. So Status B is the 'positive' class (meaning credit problems = True)\n",
    "print(precision_score(y_test, decision_predict, pos_label=1))\n",
    "print(recall_score(y_test, decision_predict, pos_label=1))\n",
    "print(f1_score(y_test, decision_predict, pos_label=1))"
   ]
  },
  {
   "cell_type": "code",
   "execution_count": 45,
   "metadata": {},
   "outputs": [
    {
     "data": {
      "image/png": "[encoded data removed]",
      "text/plain": [
       "<Figure size 1080x432 with 1 Axes>"
      ]
     },
     "metadata": {
      "needs_background": "light"
     },
     "output_type": "display_data"
    }
   ],
   "source": [
    "# ROC for Decision Tree\n",
    "\n",
    "from sklearn.metrics import roc_auc_score, roc_curve\n",
    "\n",
    "y_pred_proba_dt = decision_reg.predict_proba(X_test)[::,1]\n",
    "fpr, tpr, _ = roc_curve(y_test,  y_pred_proba_dt)\n",
    "auc = roc_auc_score(y_test, y_pred_proba_dt)\n",
    "plt.plot(fpr,tpr,label=\"data 1, auc=\"+str(auc))\n",
    "plt.plot(fpr, tpr, color='darkorange', label='ROC curve (area = %0.2f)' % auc)\n",
    "plt.plot([0, 1], [0, 1], color='navy', linestyle='--')\n",
    "plt.xlim([0.0, 1.0])\n",
    "plt.ylim([0.0, 1.05])\n",
    "plt.xlabel('False Positive Rate')\n",
    "plt.ylabel('True Positive Rate')\n",
    "plt.title('Receiver operating characteristic')\n",
    "plt.legend(loc=\"lower right\")\n",
    "plt.show()"
   ]
  },
  {
   "cell_type": "markdown",
   "metadata": {},
   "source": [
    "### DecisionTree model on FeatureScaled data:\n",
    "\n"
   ]
  },
  {
   "cell_type": "code",
   "execution_count": 46,
   "metadata": {},
   "outputs": [
    {
     "data": {
      "text/plain": [
       "0    7884\n",
       "1    1116\n",
       "dtype: int64"
      ]
     },
     "execution_count": 46,
     "metadata": {},
     "output_type": "execute_result"
    }
   ],
   "source": [
    "# use of normalised data:\n",
    "dt_fs_data= DecisionTreeClassifier(random_state=100).fit(X_train_fs, y_train_fs)\n",
    "dt_fs_predict = dt_fs_data.predict(X_test_fs)\n",
    "dt_fs_pred = pd.Series(dt_fs_predict).value_counts()\n",
    "dt_fs_pred"
   ]
  },
  {
   "cell_type": "code",
   "execution_count": 47,
   "metadata": {},
   "outputs": [
    {
     "name": "stdout",
     "output_type": "stream",
     "text": [
      "[[7073  813]\n",
      " [ 811  303]]\n"
     ]
    }
   ],
   "source": [
    "# confusion_matrix\n",
    "\n",
    "cf_matrix_dt_fs = confusion_matrix(y_test_fs, dt_fs_predict)\n",
    "print(cf_matrix_dt_fs)"
   ]
  },
  {
   "cell_type": "code",
   "execution_count": 48,
   "metadata": {},
   "outputs": [
    {
     "data": {
      "text/plain": [
       "<matplotlib.axes._subplots.AxesSubplot at 0x7fb70deaca60>"
      ]
     },
     "execution_count": 48,
     "metadata": {},
     "output_type": "execute_result"
    },
    {
     "data": {
      "image/png": "[encoded data removed]",
      "text/plain": [
       "<Figure size 1080x432 with 2 Axes>"
      ]
     },
     "metadata": {
      "needs_background": "light"
     },
     "output_type": "display_data"
    }
   ],
   "source": [
    "\n",
    "sns.heatmap(cf_matrix_dt_fs/np.sum(cf_matrix_dt_fs), annot=True, fmt='.2%', cmap='Blues')"
   ]
  },
  {
   "cell_type": "code",
   "execution_count": 49,
   "metadata": {},
   "outputs": [
    {
     "name": "stdout",
     "output_type": "stream",
     "text": [
      "0.271505376344086\n",
      "0.2719928186714542\n",
      "0.2717488789237668\n"
     ]
    }
   ],
   "source": [
    "print(precision_score(y_test_fs, dt_fs_predict, pos_label=1))\n",
    "print(recall_score(y_test_fs, dt_fs_predict, pos_label=1))\n",
    "print(f1_score(y_test_fs, dt_fs_predict, pos_label=1))"
   ]
  },
  {
   "cell_type": "code",
   "execution_count": 50,
   "metadata": {},
   "outputs": [
    {
     "data": {
      "text/plain": [
       "0    26285\n",
       "1     3715\n",
       "Name: Response, dtype: int64"
      ]
     },
     "execution_count": 50,
     "metadata": {},
     "output_type": "execute_result"
    }
   ],
   "source": [
    "insurance_1['Response'].value_counts()"
   ]
  },
  {
   "cell_type": "markdown",
   "metadata": {},
   "source": [
    "### Dealing with imbalanced data - Under Sampling\n",
    "https://towardsdatascience.com/how-to-deal-with-imbalanced-data-in-python-f9b71aba53eb \n",
    "Random Undersampling:\n",
    "Random undersampling reduces the number of majority class randomly down to the desired ratio against the minority class. This is probably the easiest way to undersample and can actually yield good results if there are a lot of the majority class instances that are close to each other.\n",
    "\n",
    "\n",
    "However, most researches have pointed out that undersampling in most cases does produce better results than oversampling. In industrial practice, it has been reported that tech giants like Facebook and Microsoft also tend to use undersampling method when it comes to classifying their ad performance. The common argument is that undersampling is generally “cheaper” than oversampling and since the class of interest is the minority positive class, reducing some information of the majority negative class is acceptable. Once you have a well-balanced data, your model will potentially learn to classify different classes better for a more reliable prediction."
   ]
  },
  {
   "cell_type": "code",
   "execution_count": 51,
   "metadata": {},
   "outputs": [],
   "source": [
    "# to install imblearn:\n",
    "#pip install imblearn"
   ]
  },
  {
   "cell_type": "code",
   "execution_count": 52,
   "metadata": {},
   "outputs": [],
   "source": [
    "from collections import Counter\n",
    "from imblearn.under_sampling import RandomUnderSampler\n",
    "import warnings \n",
    "warnings.simplefilter(action='ignore', category=FutureWarning)\n",
    "X_train, X_test, y_train, y_test = train_test_split(X, y, test_size=0.1, random_state=100)# test size should be small in under sampling\n"
   ]
  },
  {
   "cell_type": "code",
   "execution_count": 53,
   "metadata": {},
   "outputs": [
    {
     "name": "stdout",
     "output_type": "stream",
     "text": [
      "Before undersampling:  Counter({0: 23652, 1: 3348})\n"
     ]
    }
   ],
   "source": [
    "# apply the UnderSampling on original data:\n",
    "# summarize class distribution\n",
    "print(\"Before undersampling: \", Counter(y_train))"
   ]
  },
  {
   "cell_type": "code",
   "execution_count": 54,
   "metadata": {},
   "outputs": [],
   "source": [
    "# define undersampling strategy\n",
    "undersample = RandomUnderSampler(sampling_strategy='majority')"
   ]
  },
  {
   "cell_type": "code",
   "execution_count": 55,
   "metadata": {},
   "outputs": [],
   "source": [
    "# fit and apply the transform\n",
    "X_train_under, y_train_under = undersample.fit_resample(X_train, y_train)"
   ]
  },
  {
   "cell_type": "code",
   "execution_count": 56,
   "metadata": {},
   "outputs": [
    {
     "name": "stdout",
     "output_type": "stream",
     "text": [
      "After undersampling:  Counter({0: 3348, 1: 3348})\n",
      "ROC AUC score for undersampled data:  0.7908059620556943\n"
     ]
    }
   ],
   "source": [
    "# summarize class distribution\n",
    "print(\"After undersampling: \", Counter(y_train_under))\n",
    "#PART 2\n",
    "# import SVM libraries \n",
    "from sklearn.svm import SVC\n",
    "from sklearn.metrics import classification_report, roc_auc_score\n",
    "\n",
    "model=SVC()\n",
    "clf_under = model.fit(X_train_under, y_train_under)\n",
    "pred_under = clf_under.predict(X_test)\n",
    "\n",
    "print(\"ROC AUC score for undersampled data: \", roc_auc_score(y_test, pred_under))"
   ]
  },
  {
   "cell_type": "code",
   "execution_count": 57,
   "metadata": {},
   "outputs": [
    {
     "data": {
      "text/plain": [
       "(3000, 9)"
      ]
     },
     "execution_count": 57,
     "metadata": {},
     "output_type": "execute_result"
    }
   ],
   "source": [
    "X_test.shape"
   ]
  },
  {
   "cell_type": "markdown",
   "metadata": {},
   "source": [
    "### Application of Logistic Regression on the original data that has been UnderSampled:\n"
   ]
  },
  {
   "cell_type": "code",
   "execution_count": 58,
   "metadata": {
    "scrolled": true
   },
   "outputs": [
    {
     "name": "stdout",
     "output_type": "stream",
     "text": [
      "0    1566\n",
      "1    1434\n",
      "Name: response_pred, dtype: int64\n",
      "0.2482566248256625\n",
      "0.9700272479564033\n",
      "0.3953359244863965\n"
     ]
    }
   ],
   "source": [
    "    \n",
    "logistic_model_u=LogisticRegression().fit(X_train_under, y_train_under)\n",
    "response_pred_u=logistic_model_u.predict(X_test)\n",
    "response_pred_u = pd.Series(response_pred_u)\n",
    "\n",
    "y_pred_u = pd.Series(response_pred_u, name='response_pred').value_counts()\n",
    "y_tes = y_test.value_counts()\n",
    "\n",
    "print(y_pred_u)\n",
    "print(precision_score(y_test, response_pred_u, pos_label=1))\n",
    "print(recall_score(y_test, response_pred_u, pos_label=1))\n",
    "print(f1_score(y_test, response_pred_u, pos_label=1))"
   ]
  },
  {
   "cell_type": "markdown",
   "metadata": {},
   "source": [
    "Low precision relates to a high false positive rate, and high recall relates to a low false negative rate."
   ]
  },
  {
   "cell_type": "code",
   "execution_count": 59,
   "metadata": {},
   "outputs": [
    {
     "name": "stdout",
     "output_type": "stream",
     "text": [
      "              precision    recall  f1-score   support\n",
      "\n",
      "           0       0.99      0.59      0.74      2633\n",
      "           1       0.25      0.97      0.40       367\n",
      "\n",
      "    accuracy                           0.64      3000\n",
      "   macro avg       0.62      0.78      0.57      3000\n",
      "weighted avg       0.90      0.64      0.70      3000\n",
      "\n"
     ]
    }
   ],
   "source": [
    "# to see the overall report of the various scores from confusion matrix:\n",
    "from sklearn.metrics import classification_report\n",
    "print(classification_report(y_test, response_pred_u))"
   ]
  },
  {
   "cell_type": "code",
   "execution_count": 60,
   "metadata": {},
   "outputs": [
    {
     "data": {
      "image/png": "[encoded data removed]",
      "text/plain": [
       "<Figure size 1080x432 with 1 Axes>"
      ]
     },
     "metadata": {
      "needs_background": "light"
     },
     "output_type": "display_data"
    }
   ],
   "source": [
    "# ROC for Logistic regression when undersampled:\n",
    "\n",
    "y_pred_proba_u = logistic_model_u.predict_proba(X_test)[::,1]\n",
    "fpr, tpr, _ = roc_curve(y_test,  y_pred_proba_u)\n",
    "auc = roc_auc_score(y_test, y_pred_proba_u)\n",
    "plt.plot(fpr,tpr,label=\"data 1, auc=\"+str(auc))\n",
    "plt.plot(fpr, tpr, color='darkorange', label='ROC curve (area = %0.2f)' % auc)\n",
    "plt.plot([0, 1], [0, 1], color='navy', linestyle='--')\n",
    "plt.xlim([0.0, 1.0])\n",
    "plt.ylim([0.0, 1.05])\n",
    "plt.xlabel('False Positive Rate')\n",
    "plt.ylabel('True Positive Rate')\n",
    "plt.title('Receiver Operating Characteristic - Undersampled')\n",
    "plt.legend(loc=\"lower right\")\n",
    "plt.show()"
   ]
  },
  {
   "cell_type": "markdown",
   "metadata": {},
   "source": [
    "### Application of  Decision Tree on the original data that has been UnderSampled:\n"
   ]
  },
  {
   "cell_type": "code",
   "execution_count": 61,
   "metadata": {},
   "outputs": [
    {
     "data": {
      "text/plain": [
       "0    2014\n",
       "1     986\n",
       "dtype: int64"
      ]
     },
     "execution_count": 61,
     "metadata": {},
     "output_type": "execute_result"
    }
   ],
   "source": [
    "dt_under= DecisionTreeClassifier(random_state=100).fit(X_train_under, y_train_under)\n",
    "dt_under_predict = dt_under.predict(X_test)\n",
    "dt_pred = pd.Series(dt_under_predict).value_counts()\n",
    "dt_pred"
   ]
  },
  {
   "cell_type": "code",
   "execution_count": 62,
   "metadata": {},
   "outputs": [
    {
     "name": "stdout",
     "output_type": "stream",
     "text": [
      "Accuracy: 0.7216666666666667\n",
      "0.26267748478701824\n",
      "0.7057220708446866\n",
      "0.38285291943828526\n"
     ]
    }
   ],
   "source": [
    "print(\"Accuracy:\", accuracy_score(y_test, dt_under_predict))\n",
    "\n",
    "print(precision_score(y_test, dt_under_predict, pos_label=1))\n",
    "print(recall_score(y_test, dt_under_predict, pos_label=1))\n",
    "print(f1_score(y_test, dt_under_predict, pos_label=1))"
   ]
  },
  {
   "cell_type": "markdown",
   "metadata": {},
   "source": [
    "### Dealing with imbalanced data - Over Sampling\n",
    "\n",
    "\n",
    "For over-sampling techniques, SMOTE (Synthetic Minority Oversampling Technique) is considered as one of the most popular and influential data sampling algorithms in ML and data mining. With SMOTE, the minority class is over-sampled by creating “synthetic” examples rather than by over-sampling with replacement. These introduced synthetic examples are based along the line segments joining a defined number of k minority class nearest neighbours, which is in the imblearn package is set at five by default.\n"
   ]
  },
  {
   "cell_type": "code",
   "execution_count": 63,
   "metadata": {},
   "outputs": [
    {
     "data": {
      "text/plain": [
       "0    26285\n",
       "1     3715\n",
       "Name: Response, dtype: int64"
      ]
     },
     "execution_count": 63,
     "metadata": {},
     "output_type": "execute_result"
    }
   ],
   "source": [
    "insurance_1['Response'].value_counts()"
   ]
  },
  {
   "cell_type": "code",
   "execution_count": 64,
   "metadata": {},
   "outputs": [
    {
     "name": "stdout",
     "output_type": "stream",
     "text": [
      "After oversampling:  Counter({0: 23652, 1: 23652})\n"
     ]
    }
   ],
   "source": [
    "# define oversampling strategy\n",
    "y=insurance_1['Response']\n",
    "\n",
    "X=insurance_1[['Age', 'Annual_Premium','Vintage',\n",
    "               'Gender','Driving_License', 'Previously_Insured', \n",
    "               'Vehicle_Damage', 'VA_1_2_year','VA_below_1_year']]\n",
    "X_train, X_test, y_train, y_test = train_test_split(X, y, test_size=0.1, random_state=100)\n",
    "\n",
    "from imblearn.over_sampling import SMOTE\n",
    "\n",
    "SMOTE = SMOTE()\n",
    "\n",
    "# fit and apply the transform\n",
    "X_train_SMOTE, y_train_SMOTE = SMOTE.fit_resample(X_train, y_train)\n",
    "\n",
    "# summarize class distribution\n",
    "print(\"After oversampling: \",Counter(y_train_SMOTE))"
   ]
  },
  {
   "cell_type": "code",
   "execution_count": 65,
   "metadata": {},
   "outputs": [
    {
     "data": {
      "text/plain": [
       "'model=SVC()\\nclf_SMOTE = model.fit(X_train_SMOTE, y_train_SMOTE)\\npred_SMOTE = clf_SMOTE.predict(X_test)\\n\\nprint(\"ROC AUC score for oversampled SMOTE data: \", roc_auc_score(y_test, pred_SMOTE))'"
      ]
     },
     "execution_count": 65,
     "metadata": {},
     "output_type": "execute_result"
    }
   ],
   "source": [
    "# performance of the newly fitted model:\n",
    "\"\"\"model=SVC()\n",
    "clf_SMOTE = model.fit(X_train_SMOTE, y_train_SMOTE)\n",
    "pred_SMOTE = clf_SMOTE.predict(X_test)\n",
    "\n",
    "print(\"ROC AUC score for oversampled SMOTE data: \", roc_auc_score(y_test, pred_SMOTE))\"\"\""
   ]
  },
  {
   "cell_type": "markdown",
   "metadata": {},
   "source": [
    "### Application of Logistic Regression on the original data that has been OverSampled:\n"
   ]
  },
  {
   "cell_type": "code",
   "execution_count": 66,
   "metadata": {},
   "outputs": [
    {
     "name": "stdout",
     "output_type": "stream",
     "text": [
      "0    1911\n",
      "1    1089\n",
      "Name: response_pred, dtype: int64\n",
      "Accuracy: 0.72\n",
      "0.2828282828282828\n",
      "0.8392370572207084\n",
      "0.423076923076923\n"
     ]
    }
   ],
   "source": [
    "logistic_model_o=LogisticRegression().fit(X_train_SMOTE, y_train_SMOTE)\n",
    "response_pred_o=logistic_model_o.predict(X_test)\n",
    "response_pred_o = pd.Series(response_pred_o)\n",
    "\n",
    "y_pred_o = pd.Series(response_pred_o, name='response_pred').value_counts()\n",
    "y_tes = y_test.value_counts()\n",
    "\n",
    "print(y_pred_o)\n",
    "print(\"Accuracy:\", accuracy_score(y_test, response_pred_o))\n",
    "\n",
    "print(precision_score(y_test, response_pred_o, pos_label=1))\n",
    "print(recall_score(y_test, response_pred_o, pos_label=1))\n",
    "print(f1_score(y_test, response_pred_o, pos_label=1))"
   ]
  },
  {
   "cell_type": "markdown",
   "metadata": {},
   "source": [
    "High precision relates to a low false positive rate, and high recall relates to a low false negative rate."
   ]
  },
  {
   "cell_type": "markdown",
   "metadata": {},
   "source": [
    "### ROC Curve for OverSampling - case of Logistic regression on Original data\n",
    "Receiver Operating Characteristic(ROC) curve is a plot of the true positive rate against the false positive rate. It shows the tradeoff between sensitivity and specificity.\n",
    "\n",
    "Example of Receiver Operating Characteristic (ROC) metric to evaluate classifier output quality.\n",
    "\n",
    "ROC curves typically feature true positive rate on the Y axis, and false positive rate on the X axis. This means that the top left corner of the plot is the “ideal” point - a false positive rate of zero, and a true positive rate of one. This is not very realistic, but it does mean that a larger area under the curve (AUC) is usually better.\n",
    "\n",
    "The “steepness” of ROC curves is also important, since it is ideal to maximize the true positive rate while minimizing the false positive rate."
   ]
  },
  {
   "cell_type": "code",
   "execution_count": 67,
   "metadata": {},
   "outputs": [
    {
     "data": {
      "image/png": "[encoded data removed]",
      "text/plain": [
       "<Figure size 1080x432 with 1 Axes>"
      ]
     },
     "metadata": {
      "needs_background": "light"
     },
     "output_type": "display_data"
    }
   ],
   "source": [
    "# ROC for Logistic Regression for Over Sample data:\n",
    "from sklearn.metrics import roc_auc_score, roc_curve\n",
    "\n",
    "y_pred_proba_o = logistic_model_o.predict_proba(X_test)[::,1]\n",
    "fpr, tpr, _ = roc_curve(y_test,  y_pred_proba_o)\n",
    "auc = roc_auc_score(y_test, y_pred_proba_o)\n",
    "plt.plot(fpr,tpr,label=\"data 1, auc=\"+str(auc))\n",
    "plt.plot(fpr, tpr, color='darkorange', label='ROC curve (area = %0.2f)' % auc)\n",
    "plt.plot([0, 1], [0, 1], color='navy', linestyle='--')\n",
    "plt.xlim([0.0, 1.0])\n",
    "plt.ylim([0.0, 1.05])\n",
    "plt.xlabel('False Positive Rate')\n",
    "plt.ylabel('True Positive Rate')\n",
    "plt.title('Receiver operating characteristic')\n",
    "plt.legend(loc=\"lower right\")\n",
    "plt.show()\n"
   ]
  },
  {
   "cell_type": "markdown",
   "metadata": {},
   "source": [
    "### A combination of under- and oversampling method using pipeline"
   ]
  },
  {
   "cell_type": "code",
   "execution_count": 68,
   "metadata": {},
   "outputs": [],
   "source": [
    "# we need all the libraries in UnderSampling and OverSampling as well as below libraries.\n",
    "\n",
    "# import sampling and other necessary libraries \n",
    "from collections import Counter\n",
    "from imblearn.over_sampling import SMOTE\n",
    "from sklearn.model_selection import train_test_split\n",
    "import pandas as pd\n",
    "import numpy as np\n",
    "import warnings\n",
    "warnings.simplefilter(action='ignore', category=FutureWarning)\n",
    "from sklearn.svm import SVC\n",
    "from imblearn.over_sampling import SMOTE\n",
    "from imblearn.under_sampling import RandomUnderSampler\n",
    "from imblearn.pipeline import Pipeline\n",
    "# define pipeline\n",
    "model = SVC()\n",
    "over = SMOTE(sampling_strategy=0.4)\n",
    "under = RandomUnderSampler(sampling_strategy=0.5)\n",
    "steps = [('o', over), ('u', under), ('model', model)]\n",
    "pipeline = Pipeline(steps=steps)"
   ]
  },
  {
   "cell_type": "code",
   "execution_count": 69,
   "metadata": {},
   "outputs": [
    {
     "name": "stdout",
     "output_type": "stream",
     "text": [
      "ROC AUC score for the combined sampling method: 0.510\n"
     ]
    }
   ],
   "source": [
    "#PART 2\n",
    "# import libraries for evaluation\n",
    "from sklearn.model_selection import cross_val_score\n",
    "from sklearn.metrics import roc_auc_score\n",
    "from numpy import mean\n",
    "\n",
    "# evaluate pipeline\n",
    "scores = cross_val_score(pipeline, X, y, scoring='roc_auc', cv=5, n_jobs=-1)\n",
    "score = mean(scores)\n",
    "print('ROC AUC score for the combined sampling method: %.3f' % score)"
   ]
  },
  {
   "cell_type": "markdown",
   "metadata": {},
   "source": [
    "Here is the codes to create a pipeline to resample the data using both under- and oversampling method.The list of possible ratios for oversampling is [0.3,0.4] while for undersampling [0.7,0.6]."
   ]
  },
  {
   "cell_type": "code",
   "execution_count": 70,
   "metadata": {},
   "outputs": [
    {
     "data": {
      "text/plain": [
       "\"over_values = [0.3,0.4]\\nunder_values = [0.7,0.6]\\nfor o in over_values:\\n  for u in under_values:\\n    # define pipeline\\n    model = SVC()\\n    over = SMOTE(sampling_strategy=o)\\n    under = RandomUnderSampler(sampling_strategy=u)\\n    steps = [('over', over), ('under', under), ('model', model)]\\n    pipeline = Pipeline(steps=steps)\\n    # evaluate pipeline\\n    scores = cross_val_score(pipeline, X, y, scoring='roc_auc', cv=5, n_jobs=-1)\\n    score = mean(scores)\\n    print('SMOTE oversampling rate:%.1f, Random undersampling rate:%.1f , Mean ROC AUC: %.3f' % (o, u, score))\\n\""
      ]
     },
     "execution_count": 70,
     "metadata": {},
     "output_type": "execute_result"
    }
   ],
   "source": [
    "# values to evaluate\n",
    "\"\"\"over_values = [0.3,0.4]\n",
    "under_values = [0.7,0.6]\n",
    "for o in over_values:\n",
    "  for u in under_values:\n",
    "    # define pipeline\n",
    "    model = SVC()\n",
    "    over = SMOTE(sampling_strategy=o)\n",
    "    under = RandomUnderSampler(sampling_strategy=u)\n",
    "    steps = [('over', over), ('under', under), ('model', model)]\n",
    "    pipeline = Pipeline(steps=steps)\n",
    "    # evaluate pipeline\n",
    "    scores = cross_val_score(pipeline, X, y, scoring='roc_auc', cv=5, n_jobs=-1)\n",
    "    score = mean(scores)\n",
    "    print('SMOTE oversampling rate:%.1f, Random undersampling rate:%.1f , Mean ROC AUC: %.3f' % (o, u, score))\n",
    "\"\"\""
   ]
  },
  {
   "cell_type": "code",
   "execution_count": 71,
   "metadata": {},
   "outputs": [
    {
     "data": {
      "text/plain": [
       "'SMOTE oversampling rate:0.3, Random undersampling rate:0.7 , Mean ROC AUC: 0.630\\nSMOTE oversampling rate:0.3, Random undersampling rate:0.6 , Mean ROC AUC: 0.647\\nSMOTE oversampling rate:0.4, Random undersampling rate:0.7 , Mean ROC AUC: 0.632\\nSMOTE oversampling rate:0.4, Random undersampling rate:0.6 , Mean ROC AUC: 0.637'"
      ]
     },
     "execution_count": 71,
     "metadata": {},
     "output_type": "execute_result"
    }
   ],
   "source": [
    "#Here is the results of aboe combined model:\n",
    "\"\"\"SMOTE oversampling rate:0.3, Random undersampling rate:0.7 , Mean ROC AUC: 0.630\n",
    "SMOTE oversampling rate:0.3, Random undersampling rate:0.6 , Mean ROC AUC: 0.647\n",
    "SMOTE oversampling rate:0.4, Random undersampling rate:0.7 , Mean ROC AUC: 0.632\n",
    "SMOTE oversampling rate:0.4, Random undersampling rate:0.6 , Mean ROC AUC: 0.637\"\"\""
   ]
  },
  {
   "cell_type": "markdown",
   "metadata": {},
   "source": [
    "As seen in the output snapshot, the best sampling ratio in this example is to have an oversampling ratio of 0.3, follows by an undersampling ratio of 0.6 for the best possible mean ROC AUC score at 64.7%."
   ]
  },
  {
   "cell_type": "markdown",
   "metadata": {},
   "source": [
    "### Variable selection via Logistic Regression oroginal data"
   ]
  },
  {
   "cell_type": "code",
   "execution_count": 72,
   "metadata": {},
   "outputs": [
    {
     "name": "stdout",
     "output_type": "stream",
     "text": [
      "Optimization terminated successfully.\n",
      "         Current function value: 0.279005\n",
      "         Iterations 11\n",
      "                           Logit Regression Results                           \n",
      "==============================================================================\n",
      "Dep. Variable:               Response   No. Observations:                30000\n",
      "Model:                          Logit   Df Residuals:                    29991\n",
      "Method:                           MLE   Df Model:                            8\n",
      "Date:                Tue, 16 Feb 2021   Pseudo R-squ.:                  0.2550\n",
      "Time:                        19:25:11   Log-Likelihood:                -8370.2\n",
      "converged:                       True   LL-Null:                       -11235.\n",
      "Covariance Type:            nonrobust   LLR p-value:                     0.000\n",
      "======================================================================================\n",
      "                         coef    std err          z      P>|z|      [0.025      0.975]\n",
      "--------------------------------------------------------------------------------------\n",
      "Age                   -0.0286      0.002    -16.122      0.000      -0.032      -0.025\n",
      "Annual_Premium      4.983e-06   1.06e-06      4.686      0.000     2.9e-06    7.07e-06\n",
      "Vintage               -0.0003      0.000     -1.310      0.190      -0.001       0.000\n",
      "Gender                 0.0346      0.039      0.883      0.377      -0.042       0.111\n",
      "Driving_License       -1.1990      0.144     -8.348      0.000      -1.481      -0.918\n",
      "Previously_Insured    -3.5888      0.236    -15.229      0.000      -4.051      -3.127\n",
      "Vehicle_Damage         1.8336      0.107     17.194      0.000       1.625       2.043\n",
      "VA_1_2_year           -0.3708      0.064     -5.755      0.000      -0.497      -0.245\n",
      "VA_below_1_year       -1.7982      0.089    -20.255      0.000      -1.972      -1.624\n",
      "======================================================================================\n"
     ]
    }
   ],
   "source": [
    "y=insurance_1['Response']\n",
    "\n",
    "X=insurance_1[['Age', 'Annual_Premium','Vintage','Gender','Driving_License', 'Previously_Insured', \n",
    "               'Vehicle_Damage', 'VA_1_2_year','VA_below_1_year']]\n",
    "\n",
    "import statsmodels.api as sm\n",
    "logit = sm.Logit(y, X)\n",
    "model=logit.fit()\n",
    "print(model.summary())"
   ]
  },
  {
   "cell_type": "markdown",
   "metadata": {},
   "source": [
    "#### Interpretation of the Logit results:\n",
    "\n",
    "- Gender (1=male), male customers are more likely to sign up for insurance.   \n",
    "- Driving License (0 = no, 1=yes): people who have driving license are less likely to sign up for insurance.\n",
    "- Previously Insured(1 : Customer already has Vehicle Insurance): people who have already have insurance are less likely to sign up for insurance. \n",
    "- Vehicle Damage(1= Customer got his/her vehicle damaged in the past):  Customer whom their vehicle damaged in the past are more likely to sign up for insurance. \n",
    "- Vehicle age: customers whom their cars are '1-2 Year' old are less likely to sign up for insurance as compared to customers whom their cars are '> 2 Years' old. \n",
    "- Vehicle age: customers whom their cars are '< 1 Year' old are less likely to sign up for insurance as compared to customers whom their cars are '> 2 Years' old. \n"
   ]
  },
  {
   "cell_type": "markdown",
   "metadata": {},
   "source": [
    "Odds ratio:\n",
    "https://support.minitab.com/en-us/minitab-express/1/help-and-how-to/modeling-statistics/regression/how-to/binary-logistic-regression/interpret-the-results/key-results/"
   ]
  },
  {
   "cell_type": "code",
   "execution_count": 73,
   "metadata": {
    "scrolled": true
   },
   "outputs": [
    {
     "name": "stdout",
     "output_type": "stream",
     "text": [
      "Age                   0.971853\n",
      "Annual_Premium        1.000005\n",
      "Vintage               0.999701\n",
      "Gender                1.035174\n",
      "Driving_License       0.301485\n",
      "Previously_Insured    0.027632\n",
      "Vehicle_Damage        6.256166\n",
      "VA_1_2_year           0.690204\n",
      "VA_below_1_year       0.165603\n",
      "dtype: float64\n"
     ]
    }
   ],
   "source": [
    "# to calculate the Odds ratio(exponent of the estimated coefficients):\n",
    "print(np.exp(model.params))"
   ]
  },
  {
   "cell_type": "markdown",
   "metadata": {},
   "source": [
    "- Age: we can observe that Age has an ODDS Ratio of 0.971853, which indicates that one unit increase in Age increases the odds of signing up for insurance by 0.971853 times.\n",
    "\n",
    "\n",
    "- Vintage: we can observe that vintage has an ODDS Ratio of 0.999701, which indicates that one unit increase in vintage increases the odds of signing up for insurance by 0.999701 times.\n",
    "\n",
    "\n",
    "- Annual Premium: we can observe that Annual Premium has an ODDS Ratio of 1.000005, which indicates that one unit increase in Annual Premium increases the odds of signing up for insurance by 1.000005 times.\n",
    "\n",
    "Odds ratios interpretation for categorical variables:\n",
    "\n",
    "\n",
    "Odds ratios that are greater than 1 indicate that the people are more likely to sign up for insurance. Odds ratios that are less than 1 indicate that people are less likely to sign up for insurance:\n",
    "\n",
    "\n",
    "- Gender: The odds ratio is 1.035174, which indicates that the odds that Male customers sign up for insurance is 1.03 times higher compared to the female customers.\n",
    "\n",
    "\n",
    "- Driving_License: The odds ratio is 0.301485 (less than 1), which indicates that the odds that the customers with driving license are less likely to sign up for insurance as compared to the customers without driving license.\n",
    "\n",
    "\n",
    "- Previously_Insured: The odds ratio is 0.027632 (less than 1), which indicates that the odds that the customers who previously insured are less likely to sign up for insurance as compared to the new customers.\n",
    "\n",
    "\n",
    "- Vehicle_Damage: The odds ratio is 6.256166, which indicates that the odds that customers with vehicle damaged sign up for insurance is 6.2 times higher compared to the customers with no vehicle damage.\n",
    "\n",
    "\n",
    "- vehicle_Age (1-2 Year): The odds ratio is 0.690204 (less than 1), which indicates that the odds that the customers whose vehicle is '1-2 years' old are less likely to sign up for insurance as compared to the customers whose vehicle is '> 2 Years' old.\n",
    "\n",
    "\n",
    "- vehicle_Age (< 1 Year): The odds ratio is 0.165603 (less than 1), which indicates that the odds that the customers whose vehicle is '< 1 Year' old are less likely to sign up for insurance as compared to the customers whose vehicle is '> 2 Years' old.\n"
   ]
  },
  {
   "cell_type": "markdown",
   "metadata": {},
   "source": [
    "### Variable selection via Logistic Regression oroginal data undersampled, as this was the best model with highest ROC_AUC score\n"
   ]
  },
  {
   "cell_type": "code",
   "execution_count": 74,
   "metadata": {},
   "outputs": [
    {
     "name": "stdout",
     "output_type": "stream",
     "text": [
      "Optimization terminated successfully.\n",
      "         Current function value: 0.441720\n",
      "         Iterations 9\n",
      "                           Logit Regression Results                           \n",
      "==============================================================================\n",
      "Dep. Variable:               Response   No. Observations:                 6696\n",
      "Model:                          Logit   Df Residuals:                     6687\n",
      "Method:                           MLE   Df Model:                            8\n",
      "Date:                Tue, 16 Feb 2021   Pseudo R-squ.:                  0.3627\n",
      "Time:                        19:25:11   Log-Likelihood:                -2957.8\n",
      "converged:                       True   LL-Null:                       -4641.3\n",
      "Covariance Type:            nonrobust   LLR p-value:                     0.000\n",
      "======================================================================================\n",
      "                         coef    std err          z      P>|z|      [0.025      0.975]\n",
      "--------------------------------------------------------------------------------------\n",
      "Age                   -0.5140      0.078     -6.627      0.000      -0.666      -0.362\n",
      "Annual_Premium         0.0361      0.027      1.357      0.175      -0.016       0.088\n",
      "Vintage               -0.0008      0.055     -0.014      0.989      -0.109       0.107\n",
      "Gender                 0.0441      0.065      0.681      0.496      -0.083       0.171\n",
      "Driving_License       -0.6451      0.186     -3.467      0.001      -1.010      -0.280\n",
      "Previously_Insured    -3.6158      0.269    -13.458      0.000      -4.142      -3.089\n",
      "Vehicle_Damage         2.1025      0.141     14.945      0.000       1.827       2.378\n",
      "VA_1_2_year           -0.2149      0.117     -1.842      0.066      -0.444       0.014\n",
      "VA_below_1_year       -1.4129      0.156     -9.062      0.000      -1.718      -1.107\n",
      "======================================================================================\n"
     ]
    }
   ],
   "source": [
    "X_u=X_train_under\n",
    "y_u= y_train_under\n",
    "\n",
    "logit_u = sm.Logit(y_u, X_u)\n",
    "model_u=logit_u.fit()\n",
    "print(model_u.summary())"
   ]
  },
  {
   "cell_type": "code",
   "execution_count": 75,
   "metadata": {},
   "outputs": [
    {
     "name": "stdout",
     "output_type": "stream",
     "text": [
      "Age                   0.598090\n",
      "Annual_Premium        1.036798\n",
      "Vintage               0.999231\n",
      "Gender                1.045120\n",
      "Driving_License       0.524589\n",
      "Previously_Insured    0.026896\n",
      "Vehicle_Damage        8.186237\n",
      "VA_1_2_year           0.806605\n",
      "VA_below_1_year       0.243446\n",
      "dtype: float64\n"
     ]
    }
   ],
   "source": [
    "print(np.exp(model_u.params))"
   ]
  },
  {
   "cell_type": "markdown",
   "metadata": {},
   "source": [
    "### Variable selection via Decision Tree Regression oroginal data undersampled, as this was the best way\n"
   ]
  },
  {
   "cell_type": "code",
   "execution_count": 76,
   "metadata": {},
   "outputs": [
    {
     "data": {
      "text/plain": [
       "array([ 0.        ,  0.        , -0.14712536,  0.        ,  0.        ])"
      ]
     },
     "execution_count": 76,
     "metadata": {},
     "output_type": "execute_result"
    }
   ],
   "source": [
    "# we want to apply decision tree regressor on the re-sized dataset:\n",
    "\n",
    "from sklearn.tree import DecisionTreeRegressor\n",
    "\n",
    "from sklearn.model_selection import cross_val_score\n",
    "\n",
    "X=X_train_under\n",
    "y= y_train_under\n",
    "\n",
    "model = DecisionTreeRegressor(random_state=100).fit(X, y)\n",
    "cross_val_score(model,X,y, cv=5)"
   ]
  },
  {
   "cell_type": "code",
   "execution_count": 77,
   "metadata": {},
   "outputs": [
    {
     "data": {
      "image/png": "[encoded data removed]",
      "text/plain": [
       "<Figure size 1080x432 with 1 Axes>"
      ]
     },
     "metadata": {
      "needs_background": "light"
     },
     "output_type": "display_data"
    }
   ],
   "source": [
    "plt.rcParams['figure.figsize'] = [15, 6]\n",
    "plt.bar(height = model.feature_importances_, x = X.columns)\n",
    "plt.show()"
   ]
  },
  {
   "cell_type": "code",
   "execution_count": 78,
   "metadata": {},
   "outputs": [
    {
     "data": {
      "text/html": [
       "<div>\n",
       "<style scoped>\n",
       "    .dataframe tbody tr th:only-of-type {\n",
       "        vertical-align: middle;\n",
       "    }\n",
       "\n",
       "    .dataframe tbody tr th {\n",
       "        vertical-align: top;\n",
       "    }\n",
       "\n",
       "    .dataframe thead th {\n",
       "        text-align: right;\n",
       "    }\n",
       "</style>\n",
       "<table border=\"1\" class=\"dataframe\">\n",
       "  <thead>\n",
       "    <tr style=\"text-align: right;\">\n",
       "      <th></th>\n",
       "      <th>Actual</th>\n",
       "      <th>Predicted</th>\n",
       "    </tr>\n",
       "  </thead>\n",
       "  <tbody>\n",
       "    <tr>\n",
       "      <th>6102</th>\n",
       "      <td>1</td>\n",
       "      <td>1.0</td>\n",
       "    </tr>\n",
       "    <tr>\n",
       "      <th>2539</th>\n",
       "      <td>0</td>\n",
       "      <td>1.0</td>\n",
       "    </tr>\n",
       "    <tr>\n",
       "      <th>21576</th>\n",
       "      <td>1</td>\n",
       "      <td>1.0</td>\n",
       "    </tr>\n",
       "    <tr>\n",
       "      <th>19574</th>\n",
       "      <td>0</td>\n",
       "      <td>1.0</td>\n",
       "    </tr>\n",
       "    <tr>\n",
       "      <th>12804</th>\n",
       "      <td>0</td>\n",
       "      <td>0.0</td>\n",
       "    </tr>\n",
       "  </tbody>\n",
       "</table>\n",
       "</div>"
      ],
      "text/plain": [
       "       Actual  Predicted\n",
       "6102        1        1.0\n",
       "2539        0        1.0\n",
       "21576       1        1.0\n",
       "19574       0        1.0\n",
       "12804       0        0.0"
      ]
     },
     "execution_count": 78,
     "metadata": {},
     "output_type": "execute_result"
    }
   ],
   "source": [
    "y_pred=model.predict(X_test)\n",
    "\n",
    "df=pd.DataFrame({'Actual':y_test, 'Predicted':y_pred})\n",
    "df.head()"
   ]
  },
  {
   "cell_type": "code",
   "execution_count": 208,
   "metadata": {
    "scrolled": true
   },
   "outputs": [
    {
     "name": "stdout",
     "output_type": "stream",
     "text": [
      "              precision    recall  f1-score   support\n",
      "\n",
      "           0       0.88      0.99      0.93      2633\n",
      "           1       0.00      0.00      0.00       367\n",
      "\n",
      "    accuracy                           0.87      3000\n",
      "   macro avg       0.44      0.50      0.47      3000\n",
      "weighted avg       0.77      0.87      0.82      3000\n",
      "\n"
     ]
    }
   ],
   "source": [
    "from sklearn.metrics import classification_report\n",
    "print(classification_report(y_test, y_pred))"
   ]
  },
  {
   "cell_type": "code",
   "execution_count": null,
   "metadata": {},
   "outputs": [],
   "source": [
    "# these are only used for regression not classification: \n",
    "\"\"\"from sklearn import metrics\n",
    "print('Mean Absolute Error:', metrics.mean_absolute_error(y_test, y_pred))\n",
    "print('Mean Squared Error:', metrics.mean_squared_error(y_test, y_pred))\n",
    "print('Root Mean Squared Error:', np.sqrt(metrics.mean_squared_error(y_test, y_pred)))\"\"\""
   ]
  },
  {
   "cell_type": "markdown",
   "metadata": {},
   "source": [
    "### Real word test"
   ]
  },
  {
   "cell_type": "markdown",
   "metadata": {},
   "source": [
    "here is our best performed model: logistic_model_u\n",
    "\n"
   ]
  },
  {
   "cell_type": "code",
   "execution_count": 85,
   "metadata": {},
   "outputs": [],
   "source": [
    "#www.pythonanywhere.com/"
   ]
  },
  {
   "cell_type": "code",
   "execution_count": 156,
   "metadata": {},
   "outputs": [],
   "source": [
    "def response():\n",
    "    \n",
    "    Age= input('Please enter your age:')\n",
    "    while re.search('[0-9]',Age) is None:\n",
    "        print('Make sure your age is in numbers') \n",
    "        Age= input('Please enter your age:')\n",
    "    Annual_Premium = input('Please enter your desired Annual Premium:')\n",
    "    while re.search('[0-9]',Annual_Premium) is None:\n",
    "        print('Make sure your Annual Premium is in numbers')\n",
    "        Annual_Premium = input('Please enter your desired Annual Premium:')\n",
    "    Vintage = input('How many day have you been associated with ouur company :')\n",
    "    while re.search('[0-9]',Vintage) is None:\n",
    "        print('Make sure your Vintage is in numbers')\n",
    "        Vintage = input('How many day have you been associated with ouur company :')\n",
    "\n",
    "    Gender = input('Please enter your gender, Male=1, Female=0 :')\n",
    "    while re.search('[0-1]',Gender) is None:\n",
    "        print('Make sure your Gender is either 1 or 0')\n",
    "        Gender = input('Please enter your gender, Male=1, Female=0 :')\n",
    "\n",
    "    Driving_License = input('Do you have a Driving License? Yes=1, No=0 :')\n",
    "    while re.search('[0-1]',Driving_License) is None:\n",
    "        print('Make sure your Driving License either 1 or 0')\n",
    "        Driving_License = input('Do you have a Driving License? Yes=1, No=0 :')\n",
    "\n",
    "    Previously_Insured= input('Have you been previously insured with our company? Yes=1, No=0 :')\n",
    "    while re.search('[0-1]',Previously_Insured) is None:\n",
    "        print('Make sure that the value is either 1 or 0')\n",
    "        Previously_Insured= input('Have you been previously insured with our company? Yes=1, No=0 :')\n",
    "\n",
    "    Vehicle_Damage = input('Has your vehicle been damaged before? Yes=1, No=0 :')\n",
    "    while re.search('[0-1]',Vehicle_Damage) is None:\n",
    "        print('Make sure that your entry for vehicle damage is either 1 or 0')\n",
    "        Vehicle_Damage = input('Has your vehicle been damaged before? Yes=1, No=0 :')\n",
    "\n",
    "    VA_1_2_year = input('Is your vehicle 1-2 years old? Yes=1, No=0:')\n",
    "    while re.search('[0-1]',VA_1_2_year) is None:\n",
    "        print('Make sure your entry is either 1 or 0')\n",
    "        VA_1_2_year = input('Is your vehicle 1-2 years old? Yes=1, No=0:')\n",
    "\n",
    "    VA_below_1_year = input('Is your vehicle less than 1 year old? Yes=1, No=0: ')\n",
    "    while re.search('[0-1]',VA_below_1_year) is None:\n",
    "        print('Make sure your entry is either 1 or 0')\n",
    "        VA_below_1_year = input('Is your vehicle less than 1 year old? Yes=1, No=0: ')\n",
    "\n",
    "    logistic_model_u=LogisticRegression().fit(X_train_under, y_train_under)\n",
    "    parameters = ['Age', 'Annual_Premium', 'Vintage', 'Gender', 'Driving_License',\n",
    "       'Previously_Insured', 'Vehicle_Damage', 'VA_1_2_year','VA_below_1_year']\n",
    "    my_predictors = [Age, Annual_Premium, Vintage, Gender, Driving_License,\n",
    "       Previously_Insured, Vehicle_Damage, VA_1_2_year ,VA_below_1_year]\n",
    "    resp_data = dict(zip(parameters, my_predictors))\n",
    "    resp_df = pd.DataFrame(resp_data, index=[0])\n",
    "    resp_y_pred= logistic_model_u.predict(resp_df)\n",
    "    if resp_y_pred==1:\n",
    "        return 'Hooray! This client is taking up our insurance plan'\n",
    "    elif resp_y_pred==0:\n",
    "        return 'Oops! This client is not taking up our insurance plan'\n",
    "    #return f\"Response: {float(resp_y_pred)}\""
   ]
  },
  {
   "cell_type": "code",
   "execution_count": 157,
   "metadata": {},
   "outputs": [
    {
     "name": "stdout",
     "output_type": "stream",
     "text": [
      "Please enter your age:44\n",
      "Please enter your desired Annual Premium:4567\n",
      "How many day have you been associated with ouur company :124\n",
      "Please enter your gender, Male=1, Female=0 :1\n",
      "Do you have a Driving License? Yes=1, No=0 :0\n",
      "Have you been previously insured with our company? Yes=1, No=0 :1\n",
      "Has your vehicle been damaged before? Yes=1, No=0 :0\n",
      "Is your vehicle 1-2 years old? Yes=1, No=0:1\n",
      "Is your vehicle less than 1 year old? Yes=1, No=0: 0\n"
     ]
    },
    {
     "data": {
      "text/plain": [
       "'Hooray! This client is taking up our insurance plan'"
      ]
     },
     "execution_count": 157,
     "metadata": {},
     "output_type": "execute_result"
    }
   ],
   "source": [
    "response()"
   ]
  },
  {
   "cell_type": "code",
   "execution_count": null,
   "metadata": {},
   "outputs": [],
   "source": []
  }
 ],
 "metadata": {
  "kernelspec": {
   "display_name": "Python 3",
   "language": "python",
   "name": "python3"
  },
  "language_info": {
   "codemirror_mode": {
    "name": "ipython",
    "version": 3
   },
   "file_extension": ".py",
   "mimetype": "text/x-python",
   "name": "python",
   "nbconvert_exporter": "python",
   "pygments_lexer": "ipython3",
   "version": "3.8.3"
  }
 },
 "nbformat": 4,
 "nbformat_minor": 4
}
