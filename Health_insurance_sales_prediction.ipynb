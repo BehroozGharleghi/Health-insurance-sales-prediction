{
 "cells": [
  {
   "cell_type": "markdown",
   "metadata": {},
   "source": [
    "### The Story\n",
    "\n",
    "This is about an Insurance company that has provided Health Insurance to its customers. The company needs help in building a model to predict whether the policyholders (customers) from past year will also be interested in Vehicle Insurance provided by the company again.\n",
    "\n",
    "Building a model to predict whether a customer would be interested in Vehicle Insurance is extremely helpful for the company because it can then accordingly plan its communication strategy to reach out to those customers and optimise its business model and revenue.\n",
    "\n",
    "In order to predict, whether the customer would be interested in Vehicle insurance, we will use the below information: demographics (gender, age, region code type), Vehicles (Vehicle Age, Damage), and Policy (Premium, sourcing channel).\n",
    "\n",
    "Therefore we are interested to predict the response of the customer to take up the insurance (Probability of response 'yes'). The evaluation metric for this project would be ROC_AUC score.\n",
    "\n",
    "Source of data: https://www.kaggle.com/anmolkumar/health-insurance-cross-sell-prediction?select=train.csv\n"
   ]
  },
  {
   "cell_type": "code",
   "execution_count": 2,
   "metadata": {},
   "outputs": [],
   "source": [
    "# importing the necessary libraries\n",
    "import pandas as pd\n",
    "import numpy as np\n",
    "import seaborn as sns\n",
    "import matplotlib.pyplot as plt\n",
    "import re"
   ]
  },
  {
   "cell_type": "code",
   "execution_count": 3,
   "metadata": {},
   "outputs": [
    {
     "data": {
      "text/html": [
       "<div>\n",
       "<style scoped>\n",
       "    .dataframe tbody tr th:only-of-type {\n",
       "        vertical-align: middle;\n",
       "    }\n",
       "\n",
       "    .dataframe tbody tr th {\n",
       "        vertical-align: top;\n",
       "    }\n",
       "\n",
       "    .dataframe thead th {\n",
       "        text-align: right;\n",
       "    }\n",
       "</style>\n",
       "<table border=\"1\" class=\"dataframe\">\n",
       "  <thead>\n",
       "    <tr style=\"text-align: right;\">\n",
       "      <th></th>\n",
       "      <th>id</th>\n",
       "      <th>Gender</th>\n",
       "      <th>Age</th>\n",
       "      <th>Driving_License</th>\n",
       "      <th>Region_Code</th>\n",
       "      <th>Previously_Insured</th>\n",
       "      <th>Vehicle_Age</th>\n",
       "      <th>Vehicle_Damage</th>\n",
       "      <th>Annual_Premium</th>\n",
       "      <th>Policy_Sales_Channel</th>\n",
       "      <th>Vintage</th>\n",
       "      <th>Response</th>\n",
       "    </tr>\n",
       "  </thead>\n",
       "  <tbody>\n",
       "    <tr>\n",
       "      <th>0</th>\n",
       "      <td>1</td>\n",
       "      <td>Male</td>\n",
       "      <td>44</td>\n",
       "      <td>1</td>\n",
       "      <td>28.0</td>\n",
       "      <td>0</td>\n",
       "      <td>&gt; 2 Years</td>\n",
       "      <td>Yes</td>\n",
       "      <td>40454.0</td>\n",
       "      <td>26.0</td>\n",
       "      <td>217</td>\n",
       "      <td>1</td>\n",
       "    </tr>\n",
       "    <tr>\n",
       "      <th>1</th>\n",
       "      <td>2</td>\n",
       "      <td>Male</td>\n",
       "      <td>76</td>\n",
       "      <td>1</td>\n",
       "      <td>3.0</td>\n",
       "      <td>0</td>\n",
       "      <td>1-2 Year</td>\n",
       "      <td>No</td>\n",
       "      <td>33536.0</td>\n",
       "      <td>26.0</td>\n",
       "      <td>183</td>\n",
       "      <td>0</td>\n",
       "    </tr>\n",
       "    <tr>\n",
       "      <th>2</th>\n",
       "      <td>3</td>\n",
       "      <td>Male</td>\n",
       "      <td>47</td>\n",
       "      <td>1</td>\n",
       "      <td>28.0</td>\n",
       "      <td>0</td>\n",
       "      <td>&gt; 2 Years</td>\n",
       "      <td>Yes</td>\n",
       "      <td>38294.0</td>\n",
       "      <td>26.0</td>\n",
       "      <td>27</td>\n",
       "      <td>1</td>\n",
       "    </tr>\n",
       "    <tr>\n",
       "      <th>3</th>\n",
       "      <td>4</td>\n",
       "      <td>Male</td>\n",
       "      <td>21</td>\n",
       "      <td>1</td>\n",
       "      <td>11.0</td>\n",
       "      <td>1</td>\n",
       "      <td>&lt; 1 Year</td>\n",
       "      <td>No</td>\n",
       "      <td>28619.0</td>\n",
       "      <td>152.0</td>\n",
       "      <td>203</td>\n",
       "      <td>0</td>\n",
       "    </tr>\n",
       "    <tr>\n",
       "      <th>4</th>\n",
       "      <td>5</td>\n",
       "      <td>Female</td>\n",
       "      <td>29</td>\n",
       "      <td>1</td>\n",
       "      <td>41.0</td>\n",
       "      <td>1</td>\n",
       "      <td>&lt; 1 Year</td>\n",
       "      <td>No</td>\n",
       "      <td>27496.0</td>\n",
       "      <td>152.0</td>\n",
       "      <td>39</td>\n",
       "      <td>0</td>\n",
       "    </tr>\n",
       "  </tbody>\n",
       "</table>\n",
       "</div>"
      ],
      "text/plain": [
       "   id  Gender  Age  Driving_License  Region_Code  Previously_Insured  \\\n",
       "0   1    Male   44                1         28.0                   0   \n",
       "1   2    Male   76                1          3.0                   0   \n",
       "2   3    Male   47                1         28.0                   0   \n",
       "3   4    Male   21                1         11.0                   1   \n",
       "4   5  Female   29                1         41.0                   1   \n",
       "\n",
       "  Vehicle_Age Vehicle_Damage  Annual_Premium  Policy_Sales_Channel  Vintage  \\\n",
       "0   > 2 Years            Yes         40454.0                  26.0      217   \n",
       "1    1-2 Year             No         33536.0                  26.0      183   \n",
       "2   > 2 Years            Yes         38294.0                  26.0       27   \n",
       "3    < 1 Year             No         28619.0                 152.0      203   \n",
       "4    < 1 Year             No         27496.0                 152.0       39   \n",
       "\n",
       "   Response  \n",
       "0         1  \n",
       "1         0  \n",
       "2         1  \n",
       "3         0  \n",
       "4         0  "
      ]
     },
     "execution_count": 3,
     "metadata": {},
     "output_type": "execute_result"
    }
   ],
   "source": [
    "# to read the data:\n",
    "insurance = pd.read_csv('insurance_data.csv')\n",
    "insurance.head()"
   ]
  },
  {
   "cell_type": "code",
   "execution_count": 4,
   "metadata": {},
   "outputs": [
    {
     "data": {
      "text/plain": [
       "id                      0\n",
       "Gender                  0\n",
       "Age                     0\n",
       "Driving_License         0\n",
       "Region_Code             0\n",
       "Previously_Insured      0\n",
       "Vehicle_Age             0\n",
       "Vehicle_Damage          0\n",
       "Annual_Premium          0\n",
       "Policy_Sales_Channel    0\n",
       "Vintage                 0\n",
       "Response                0\n",
       "dtype: int64"
      ]
     },
     "execution_count": 4,
     "metadata": {},
     "output_type": "execute_result"
    }
   ],
   "source": [
    "# to check the missing values\n",
    "insurance.isnull().sum()"
   ]
  },
  {
   "cell_type": "code",
   "execution_count": 6,
   "metadata": {},
   "outputs": [
    {
     "name": "stdout",
     "output_type": "stream",
     "text": [
      "<class 'pandas.core.frame.DataFrame'>\n",
      "RangeIndex: 30000 entries, 0 to 29999\n",
      "Data columns (total 12 columns):\n",
      " #   Column                Non-Null Count  Dtype  \n",
      "---  ------                --------------  -----  \n",
      " 0   id                    30000 non-null  int64  \n",
      " 1   Gender                30000 non-null  object \n",
      " 2   Age                   30000 non-null  int64  \n",
      " 3   Driving_License       30000 non-null  int64  \n",
      " 4   Region_Code           30000 non-null  float64\n",
      " 5   Previously_Insured    30000 non-null  int64  \n",
      " 6   Vehicle_Age           30000 non-null  object \n",
      " 7   Vehicle_Damage        30000 non-null  object \n",
      " 8   Annual_Premium        30000 non-null  float64\n",
      " 9   Policy_Sales_Channel  30000 non-null  float64\n",
      " 10  Vintage               30000 non-null  int64  \n",
      " 11  Response              30000 non-null  int64  \n",
      "dtypes: float64(3), int64(6), object(3)\n",
      "memory usage: 2.7+ MB\n"
     ]
    }
   ],
   "source": [
    "# to see the data types and more information about the data:\n",
    "insurance.info()"
   ]
  },
  {
   "cell_type": "code",
   "execution_count": 7,
   "metadata": {},
   "outputs": [
    {
     "data": {
      "text/html": [
       "<div>\n",
       "<style scoped>\n",
       "    .dataframe tbody tr th:only-of-type {\n",
       "        vertical-align: middle;\n",
       "    }\n",
       "\n",
       "    .dataframe tbody tr th {\n",
       "        vertical-align: top;\n",
       "    }\n",
       "\n",
       "    .dataframe thead th {\n",
       "        text-align: right;\n",
       "    }\n",
       "</style>\n",
       "<table border=\"1\" class=\"dataframe\">\n",
       "  <thead>\n",
       "    <tr style=\"text-align: right;\">\n",
       "      <th></th>\n",
       "      <th>Gender</th>\n",
       "      <th>Vehicle_Age</th>\n",
       "      <th>Vehicle_Damage</th>\n",
       "    </tr>\n",
       "  </thead>\n",
       "  <tbody>\n",
       "    <tr>\n",
       "      <th>0</th>\n",
       "      <td>Male</td>\n",
       "      <td>&gt; 2 Years</td>\n",
       "      <td>Yes</td>\n",
       "    </tr>\n",
       "    <tr>\n",
       "      <th>1</th>\n",
       "      <td>Male</td>\n",
       "      <td>1-2 Year</td>\n",
       "      <td>No</td>\n",
       "    </tr>\n",
       "    <tr>\n",
       "      <th>2</th>\n",
       "      <td>Male</td>\n",
       "      <td>&gt; 2 Years</td>\n",
       "      <td>Yes</td>\n",
       "    </tr>\n",
       "    <tr>\n",
       "      <th>3</th>\n",
       "      <td>Male</td>\n",
       "      <td>&lt; 1 Year</td>\n",
       "      <td>No</td>\n",
       "    </tr>\n",
       "    <tr>\n",
       "      <th>4</th>\n",
       "      <td>Female</td>\n",
       "      <td>&lt; 1 Year</td>\n",
       "      <td>No</td>\n",
       "    </tr>\n",
       "    <tr>\n",
       "      <th>...</th>\n",
       "      <td>...</td>\n",
       "      <td>...</td>\n",
       "      <td>...</td>\n",
       "    </tr>\n",
       "    <tr>\n",
       "      <th>29995</th>\n",
       "      <td>Male</td>\n",
       "      <td>&lt; 1 Year</td>\n",
       "      <td>No</td>\n",
       "    </tr>\n",
       "    <tr>\n",
       "      <th>29996</th>\n",
       "      <td>Male</td>\n",
       "      <td>&lt; 1 Year</td>\n",
       "      <td>Yes</td>\n",
       "    </tr>\n",
       "    <tr>\n",
       "      <th>29997</th>\n",
       "      <td>Female</td>\n",
       "      <td>&lt; 1 Year</td>\n",
       "      <td>No</td>\n",
       "    </tr>\n",
       "    <tr>\n",
       "      <th>29998</th>\n",
       "      <td>Male</td>\n",
       "      <td>&lt; 1 Year</td>\n",
       "      <td>No</td>\n",
       "    </tr>\n",
       "    <tr>\n",
       "      <th>29999</th>\n",
       "      <td>Male</td>\n",
       "      <td>1-2 Year</td>\n",
       "      <td>No</td>\n",
       "    </tr>\n",
       "  </tbody>\n",
       "</table>\n",
       "<p>30000 rows × 3 columns</p>\n",
       "</div>"
      ],
      "text/plain": [
       "       Gender Vehicle_Age Vehicle_Damage\n",
       "0        Male   > 2 Years            Yes\n",
       "1        Male    1-2 Year             No\n",
       "2        Male   > 2 Years            Yes\n",
       "3        Male    < 1 Year             No\n",
       "4      Female    < 1 Year             No\n",
       "...       ...         ...            ...\n",
       "29995    Male    < 1 Year             No\n",
       "29996    Male    < 1 Year            Yes\n",
       "29997  Female    < 1 Year             No\n",
       "29998    Male    < 1 Year             No\n",
       "29999    Male    1-2 Year             No\n",
       "\n",
       "[30000 rows x 3 columns]"
      ]
     },
     "execution_count": 7,
     "metadata": {},
     "output_type": "execute_result"
    }
   ],
   "source": [
    "# to check all the object columns:\n",
    "insurence_object=insurance.select_dtypes(include=['object'])\n",
    "insurence_object"
   ]
  },
  {
   "cell_type": "code",
   "execution_count": 9,
   "metadata": {},
   "outputs": [],
   "source": [
    "# To apply the label encoder to decode the binary categorical columns:\n",
    "from sklearn.preprocessing import LabelEncoder\n",
    "\n",
    "le = LabelEncoder()\n",
    "insurance.Gender= le.fit_transform(insurance.Gender.values)\n",
    "insurance.Vehicle_Damage= le.fit_transform(insurance.Vehicle_Damage.values)\n"
   ]
  },
  {
   "cell_type": "code",
   "execution_count": 10,
   "metadata": {
    "scrolled": false
   },
   "outputs": [
    {
     "data": {
      "text/plain": [
       "<matplotlib.axes._subplots.AxesSubplot at 0x7ff3f17d1b20>"
      ]
     },
     "execution_count": 10,
     "metadata": {},
     "output_type": "execute_result"
    },
    {
     "data": {
      "image/png": "[encoded data removed]",
      "text/plain": [
       "<Figure size 720x720 with 2 Axes>"
      ]
     },
     "metadata": {
      "needs_background": "light"
     },
     "output_type": "display_data"
    }
   ],
   "source": [
    "# To check the ccorrelation of the selected numerical columns:\n",
    "f, b = plt.subplots(figsize=(10,10))\n",
    "corr = insurance[['Age', 'Gender', 'Driving_License',\n",
    "       'Previously_Insured', 'Vehicle_Damage', 'Annual_Premium', 'Vintage', 'Response']].corr()\n",
    "\n",
    "mask = np.triu(np.ones_like(corr, dtype=bool))\n",
    "sns.heatmap(corr, mask=mask, linewidth=0.3, square=True, annot=True)"
   ]
  },
  {
   "cell_type": "code",
   "execution_count": 13,
   "metadata": {},
   "outputs": [
    {
     "name": "stdout",
     "output_type": "stream",
     "text": [
      "[]\n",
      "[]\n"
     ]
    }
   ],
   "source": [
    "# To find out the highly correlated variables and then drop those columns when their corrlation is above +/-.95:\n",
    "# Select upper triangle of correlation matrix\n",
    "upper = corr.where(np.triu(np.ones(corr.shape), k=1).astype(np.bool))\n",
    "\n",
    "# Find index of feature columns with correlation greater than +/-0.95\n",
    "to_drop = [column for column in upper.columns if any(upper[column] < -0.95)]\n",
    "to_drop1 = [column for column in upper.columns if any(upper[column] > 0.95)]\n",
    "\n",
    "print(to_drop)\n",
    "print(to_drop1)"
   ]
  },
  {
   "cell_type": "code",
   "execution_count": 14,
   "metadata": {},
   "outputs": [
    {
     "data": {
      "text/plain": [
       "1-2 Year     15674\n",
       "< 1 Year     13057\n",
       "> 2 Years     1269\n",
       "Name: Vehicle_Age, dtype: int64"
      ]
     },
     "execution_count": 14,
     "metadata": {},
     "output_type": "execute_result"
    }
   ],
   "source": [
    "insurance['Vehicle_Age'].value_counts()"
   ]
  },
  {
   "cell_type": "code",
   "execution_count": 15,
   "metadata": {
    "scrolled": true
   },
   "outputs": [],
   "source": [
    "# to decode and get dummies of the categorical data that has more than 2 categories, we use get_dummies:\n",
    "\n",
    "dummies= pd.get_dummies(insurance['Vehicle_Age'])\n",
    "insurance_1 = pd.concat([insurance, dummies], axis=1).drop(['Vehicle_Age'], axis=1)\n"
   ]
  },
  {
   "cell_type": "code",
   "execution_count": 16,
   "metadata": {},
   "outputs": [],
   "source": [
    "# we decided to drop this column as it has lowest number data:\n",
    "insurance_1.drop(['> 2 Years'], axis=1, inplace=True)"
   ]
  },
  {
   "cell_type": "code",
   "execution_count": 17,
   "metadata": {},
   "outputs": [
    {
     "data": {
      "text/plain": [
       "0    26285\n",
       "1     3715\n",
       "Name: Response, dtype: int64"
      ]
     },
     "execution_count": 17,
     "metadata": {},
     "output_type": "execute_result"
    }
   ],
   "source": [
    "insurance_1['Response'].value_counts()"
   ]
  },
  {
   "cell_type": "code",
   "execution_count": 18,
   "metadata": {},
   "outputs": [
    {
     "data": {
      "text/plain": [
       "Index(['id', 'Gender', 'Age', 'Driving_License', 'Region_Code',\n",
       "       'Previously_Insured', 'Vehicle_Damage', 'Annual_Premium',\n",
       "       'Policy_Sales_Channel', 'Vintage', 'Response', 'VA_1_2_year',\n",
       "       'VA_below_1_year'],\n",
       "      dtype='object')"
      ]
     },
     "execution_count": 18,
     "metadata": {},
     "output_type": "execute_result"
    }
   ],
   "source": [
    "# to rename the columns of dummies of vehicle age:\n",
    "insurance_1.rename(columns={'1-2 Year':'VA_1_2_year', '< 1 Year':'VA_below_1_year'}, inplace=True)\n",
    "insurance_1.columns"
   ]
  },
  {
   "cell_type": "markdown",
   "metadata": {},
   "source": [
    "#### Dataset with Standard Scaler \n",
    "Standardizing the features to mean 0 and variance 1. "
   ]
  },
  {
   "cell_type": "code",
   "execution_count": 21,
   "metadata": {},
   "outputs": [],
   "source": [
    "from sklearn.preprocessing import StandardScaler\n",
    "to_transform = insurance_1[['Age', 'Annual_Premium','Vintage']]\n",
    "# to select number type columns: data_num = insurance_2.select_dtypes(include=np.number)\n",
    "transfor = StandardScaler().fit(to_transform)\n",
    "transform_data= transfor.transform(to_transform)\n",
    "transform = pd.DataFrame(transform_data, columns = to_transform.columns)\n",
    "transform.head()\n",
    "to_select = insurance_1[['Gender', 'Driving_License',\n",
    "       'Previously_Insured', 'Vehicle_Damage', 'VA_1_2_year',\n",
    "       'VA_below_1_year','Response']]\n",
    "\n",
    "insurance_2=pd.concat([transform, to_select], axis=1)"
   ]
  },
  {
   "cell_type": "markdown",
   "metadata": {},
   "source": [
    "#### Normalization: Dataset with Feature Scaling\n",
    "This method delas with outliers. This Scaler removes the median and scales the data according to the quantile range (defaults to IQR: Interquartile Range). The IQR is the range between the 1st quartile (25th quantile) and the 3rd quartile (75th quantile). Centering and scaling happen independently on each feature by computing the relevant statistics on the samples in the training set. Median and interquartile range are then stored to be used on later data using the transform method. Outliers can often influence the sample mean / variance in a negative way. Therefore, the median and the interquartile range often give better results as compared to StandardScaler."
   ]
  },
  {
   "cell_type": "code",
   "execution_count": 24,
   "metadata": {},
   "outputs": [],
   "source": [
    "from sklearn.preprocessing import RobustScaler\n",
    "\n",
    "to_fs = insurance_1[['Age','Annual_Premium','Vintage']]\n",
    "to_fs_data= RobustScaler().fit(to_fs)\n",
    "to_fs_data1 = to_fs_data.transform(to_fs)\n",
    "fs_data = pd.DataFrame(to_fs_data1, columns= to_fs.columns)\n",
    "\n",
    "insurance_3 = pd.concat([fs_data, to_select], axis=1)\n"
   ]
  },
  {
   "cell_type": "markdown",
   "metadata": {},
   "source": [
    "### Modeling, Prediction, and Evaluation\n",
    "#### preparation of data\n"
   ]
  },
  {
   "cell_type": "code",
   "execution_count": 25,
   "metadata": {},
   "outputs": [],
   "source": [
    "# slpit the data into train and test:\n",
    "\n",
    "from sklearn.model_selection import train_test_split \n",
    "\n",
    "y=insurance_1['Response']\n",
    "\n",
    "X=insurance_1[['Age','Annual_Premium','Vintage',\n",
    "               'Gender','Driving_License', 'Previously_Insured', \n",
    "               'Vehicle_Damage', 'VA_1_2_year','VA_below_1_year']]\n",
    "\n",
    "X_train, X_test, y_train, y_test = train_test_split(X, y, test_size=0.2, random_state=100)\n"
   ]
  },
  {
   "cell_type": "markdown",
   "metadata": {},
   "source": [
    "#### Classification: Application of Logistic Regression on original dataset (not transformed, not normalised)"
   ]
  },
  {
   "cell_type": "code",
   "execution_count": 27,
   "metadata": {},
   "outputs": [
    {
     "data": {
      "text/plain": [
       "0    5994\n",
       "1       6\n",
       "Name: response_pred, dtype: int64"
      ]
     },
     "execution_count": 27,
     "metadata": {},
     "output_type": "execute_result"
    }
   ],
   "source": [
    "from sklearn.linear_model import LogisticRegression \n",
    "\n",
    "logistic_model=LogisticRegression().fit(X_train, y_train)\n",
    "response_pred=logistic_model.predict(X_test)\n",
    "response_pred = pd.Series(response_pred)\n",
    "\n",
    "y_pred = pd.Series(response_pred, name='response_pred').value_counts()\n",
    "y_tes = y_test.value_counts()\n",
    "\n",
    "y_pred"
   ]
  },
  {
   "cell_type": "code",
   "execution_count": 31,
   "metadata": {},
   "outputs": [
    {
     "name": "stdout",
     "output_type": "stream",
     "text": [
      "Accuracy score of the logistic regression is:  0.8806666666666667\n",
      "accuracy score is:  0.8806666666666667\n"
     ]
    }
   ],
   "source": [
    "# Accuracy score of the Logistic Regression:\n",
    "from sklearn.metrics import accuracy_score\n",
    "\n",
    "print('Accuracy score of the logistic regression is: ', logistic_model.score(X_test, y_test))\n",
    "# another way of accuracy score:\n",
    "print ('accuracy score is: ', accuracy_score(y_test, response_pred))"
   ]
  },
  {
   "cell_type": "code",
   "execution_count": 28,
   "metadata": {},
   "outputs": [
    {
     "data": {
      "text/html": [
       "<div>\n",
       "<style scoped>\n",
       "    .dataframe tbody tr th:only-of-type {\n",
       "        vertical-align: middle;\n",
       "    }\n",
       "\n",
       "    .dataframe tbody tr th {\n",
       "        vertical-align: top;\n",
       "    }\n",
       "\n",
       "    .dataframe thead th {\n",
       "        text-align: right;\n",
       "    }\n",
       "</style>\n",
       "<table border=\"1\" class=\"dataframe\">\n",
       "  <thead>\n",
       "    <tr style=\"text-align: right;\">\n",
       "      <th></th>\n",
       "      <th>Response</th>\n",
       "      <th>response_pred</th>\n",
       "    </tr>\n",
       "  </thead>\n",
       "  <tbody>\n",
       "    <tr>\n",
       "      <th>0</th>\n",
       "      <td>5286</td>\n",
       "      <td>5994</td>\n",
       "    </tr>\n",
       "    <tr>\n",
       "      <th>1</th>\n",
       "      <td>714</td>\n",
       "      <td>6</td>\n",
       "    </tr>\n",
       "  </tbody>\n",
       "</table>\n",
       "</div>"
      ],
      "text/plain": [
       "   Response  response_pred\n",
       "0      5286           5994\n",
       "1       714              6"
      ]
     },
     "execution_count": 28,
     "metadata": {},
     "output_type": "execute_result"
    }
   ],
   "source": [
    "pd.concat([y_tes, y_pred], axis=1)\n"
   ]
  },
  {
   "cell_type": "code",
   "execution_count": 51,
   "metadata": {},
   "outputs": [
    {
     "name": "stdout",
     "output_type": "stream",
     "text": [
      "Precision Score of LogisticRegression:  0.3333333333333333\n",
      "Recall Score of LogisticRegression:  0.0028011204481792717\n",
      "f1 Score of LogisticRegression:  0.005555555555555556\n"
     ]
    }
   ],
   "source": [
    "# printing out the performance scores:\n",
    "from sklearn.metrics import precision_score, recall_score, f1_score\n",
    "\n",
    "print('Precision Score of LogisticRegression: ', precision_score(y_test, response_pred, pos_label=1))\n",
    "print('Recall Score of LogisticRegression: ',recall_score(y_test, response_pred, pos_label=1))\n",
    "print('f1 Score of LogisticRegression: ',f1_score(y_test, response_pred, pos_label=1))"
   ]
  },
  {
   "cell_type": "markdown",
   "metadata": {},
   "source": [
    "Note: We applied the LogisticRegression to the Standardized and Normalized datasets, but the result did not improve, therefore we do not present those in here."
   ]
  },
  {
   "cell_type": "markdown",
   "metadata": {},
   "source": [
    "### In order to improve the model performance, we employ the DecisionTree model on the original data set (not standardized, not Normalized)"
   ]
  },
  {
   "cell_type": "code",
   "execution_count": 32,
   "metadata": {},
   "outputs": [],
   "source": [
    "# DecisionTree on original data:\n",
    "from sklearn.tree import DecisionTreeClassifier\n",
    "\n",
    "decision_reg = DecisionTreeClassifier(random_state=100).fit(X_train, y_train)\n",
    "decision_predict = decision_reg.predict(X_test)\n",
    "\n",
    "response_precidt = pd.Series(decision_predict, name='response_pred').value_counts()"
   ]
  },
  {
   "cell_type": "code",
   "execution_count": 33,
   "metadata": {},
   "outputs": [
    {
     "data": {
      "text/html": [
       "<div>\n",
       "<style scoped>\n",
       "    .dataframe tbody tr th:only-of-type {\n",
       "        vertical-align: middle;\n",
       "    }\n",
       "\n",
       "    .dataframe tbody tr th {\n",
       "        vertical-align: top;\n",
       "    }\n",
       "\n",
       "    .dataframe thead th {\n",
       "        text-align: right;\n",
       "    }\n",
       "</style>\n",
       "<table border=\"1\" class=\"dataframe\">\n",
       "  <thead>\n",
       "    <tr style=\"text-align: right;\">\n",
       "      <th></th>\n",
       "      <th>Response</th>\n",
       "      <th>response_pred</th>\n",
       "    </tr>\n",
       "  </thead>\n",
       "  <tbody>\n",
       "    <tr>\n",
       "      <th>0</th>\n",
       "      <td>5286</td>\n",
       "      <td>5190</td>\n",
       "    </tr>\n",
       "    <tr>\n",
       "      <th>1</th>\n",
       "      <td>714</td>\n",
       "      <td>810</td>\n",
       "    </tr>\n",
       "  </tbody>\n",
       "</table>\n",
       "</div>"
      ],
      "text/plain": [
       "   Response  response_pred\n",
       "0      5286           5190\n",
       "1       714            810"
      ]
     },
     "execution_count": 33,
     "metadata": {},
     "output_type": "execute_result"
    }
   ],
   "source": [
    "pd.concat([y_tes, response_precidt], axis=1)\n"
   ]
  },
  {
   "cell_type": "code",
   "execution_count": 35,
   "metadata": {},
   "outputs": [
    {
     "name": "stdout",
     "output_type": "stream",
     "text": [
      "0.8143333333333334\n",
      "0.8143333333333334\n"
     ]
    }
   ],
   "source": [
    "# Two ways to measure the accuracy:\n",
    "print(decision_reg.score(X_test, y_test))\n",
    "print(accuracy_score(y_test, decision_predict))"
   ]
  },
  {
   "cell_type": "code",
   "execution_count": 41,
   "metadata": {
    "scrolled": true
   },
   "outputs": [
    {
     "name": "stdout",
     "output_type": "stream",
     "text": [
      "{'Age': 0.1686060038457213, 'Annual_Premium': 0.3072670590200708, 'Vintage': 0.3368487141194509, 'Gender': 0.030497628108888584, 'Driving_License': 0.00021707523852108638, 'Previously_Insured': 0.011250618988625049, 'Vehicle_Damage': 0.12627271625829406, 'VA_1_2_year': 0.014024008040007476, 'VA_below_1_year': 0.005016176380420875}\n"
     ]
    }
   ],
   "source": [
    "# To compute the feature importance:\n",
    "#decision_reg.feature_importances_\n",
    "print(dict(zip(X.columns, decision_reg.tree_.compute_feature_importances(normalize=True))))"
   ]
  },
  {
   "cell_type": "code",
   "execution_count": 42,
   "metadata": {},
   "outputs": [
    {
     "data": {
      "image/png": "[encoded data removed]",
      "text/plain": [
       "<Figure size 1080x432 with 1 Axes>"
      ]
     },
     "metadata": {
      "needs_background": "light"
     },
     "output_type": "display_data"
    }
   ],
   "source": [
    "plt.rcParams['figure.figsize'] = [15, 6]\n",
    "plt.bar(height = decision_reg.feature_importances_, x = X.columns)\n",
    "plt.show()"
   ]
  },
  {
   "cell_type": "markdown",
   "metadata": {},
   "source": [
    "### Creatre Confusion_matrix for the DecisionTree"
   ]
  },
  {
   "cell_type": "code",
   "execution_count": 45,
   "metadata": {},
   "outputs": [
    {
     "name": "stdout",
     "output_type": "stream",
     "text": [
      "[[4681  605]\n",
      " [ 509  205]]\n"
     ]
    }
   ],
   "source": [
    "from sklearn.metrics import confusion_matrix\n",
    "cf_matrix = confusion_matrix(y_test, decision_predict)\n",
    "print(cf_matrix)"
   ]
  },
  {
   "cell_type": "code",
   "execution_count": 46,
   "metadata": {},
   "outputs": [
    {
     "data": {
      "image/png": "[encoded data removed]",
      "text/plain": [
       "<Figure size 1080x432 with 2 Axes>"
      ]
     },
     "metadata": {
      "needs_background": "light"
     },
     "output_type": "display_data"
    }
   ],
   "source": [
    "sns.heatmap(cf_matrix/np.sum(cf_matrix), annot=True, fmt='.2%', cmap='Blues')\n",
    "plt.show()"
   ]
  },
  {
   "cell_type": "code",
   "execution_count": 52,
   "metadata": {},
   "outputs": [
    {
     "name": "stdout",
     "output_type": "stream",
     "text": [
      "Precision Score of DecisionTree:  0.25308641975308643\n",
      "recall Score of DecisionTree:  0.28711484593837533\n",
      "f1 Score of DecisionTree:  0.26902887139107606\n"
     ]
    }
   ],
   "source": [
    "# We need to specify which 'Response' is the 'positive class'. Here, we are trying to predict whether a customer \n",
    "# will take up th einsurance, therefore class '1' is the 'positive' class.\n",
    "print('Precision Score of DecisionTree: ',precision_score(y_test, decision_predict, pos_label=1))\n",
    "print('recall Score of DecisionTree: ',recall_score(y_test, decision_predict, pos_label=1))\n",
    "print('f1 Score of DecisionTree: ',f1_score(y_test, decision_predict, pos_label=1))"
   ]
  },
  {
   "cell_type": "code",
   "execution_count": 53,
   "metadata": {},
   "outputs": [
    {
     "data": {
      "image/png": "[encoded data removed]",
      "text/plain": [
       "<Figure size 1080x432 with 1 Axes>"
      ]
     },
     "metadata": {
      "needs_background": "light"
     },
     "output_type": "display_data"
    }
   ],
   "source": [
    "# ROC_AUC score for the DecisionTree:\n",
    "\n",
    "from sklearn.metrics import roc_auc_score, roc_curve\n",
    "\n",
    "y_pred_proba_dt = decision_reg.predict_proba(X_test)[::,1]\n",
    "fpr, tpr, _ = roc_curve(y_test,  y_pred_proba_dt)\n",
    "auc = roc_auc_score(y_test, y_pred_proba_dt)\n",
    "plt.plot(fpr,tpr,label=\"data 1, auc=\"+str(auc))\n",
    "plt.plot(fpr, tpr, color='darkorange', label='ROC curve (area = %0.2f)' % auc)\n",
    "plt.plot([0, 1], [0, 1], color='navy', linestyle='--')\n",
    "plt.xlim([0.0, 1.0])\n",
    "plt.ylim([0.0, 1.05])\n",
    "plt.xlabel('False Positive Rate')\n",
    "plt.ylabel('True Positive Rate')\n",
    "plt.title('Receiver operating characteristic')\n",
    "plt.legend(loc=\"lower right\")\n",
    "plt.show()"
   ]
  },
  {
   "cell_type": "markdown",
   "metadata": {},
   "source": [
    "We applied the DecisionTree on Normalized and Standardized data but there was not a significant improvement, so we will go ahead with the original data."
   ]
  },
  {
   "cell_type": "markdown",
   "metadata": {},
   "source": [
    "### Dealing with imbalanced data - Under Sampling\n",
    "Because our data is imbalanced (87% vs 13%), we have to deal with it. \n",
    "Random Undersampling:\n",
    "Random undersampling reduces the number of majority class randomly down to the desired ratio against the minority class. This is probably the easiest way to undersample and can actually yield good results if there are a lot of the majority class instances that are close to each other.\n",
    "\n",
    "\n",
    "However, most researches have pointed out that undersampling in most cases does produce better results than oversampling. In industrial practice, it has been reported that tech giants like Facebook and Microsoft also tend to use undersampling method when it comes to classifying their ad performance. The common argument is that undersampling is generally “cheaper” than oversampling and since the class of interest is the minority positive class, reducing some information of the majority negative class is acceptable. Once you have a well-balanced data, your model will potentially learn to classify different classes better for a more reliable prediction."
   ]
  },
  {
   "cell_type": "code",
   "execution_count": 54,
   "metadata": {},
   "outputs": [],
   "source": [
    "from collections import Counter\n",
    "from imblearn.under_sampling import RandomUnderSampler\n",
    "import warnings \n",
    "warnings.simplefilter(action='ignore', category=FutureWarning)\n",
    "X_train, X_test, y_train, y_test = train_test_split(X, y, test_size=0.1, random_state=100)# test size should be small in under sampling\n"
   ]
  },
  {
   "cell_type": "code",
   "execution_count": 55,
   "metadata": {},
   "outputs": [
    {
     "name": "stdout",
     "output_type": "stream",
     "text": [
      "Before undersampling:  Counter({0: 23652, 1: 3348})\n"
     ]
    }
   ],
   "source": [
    "# apply the UnderSampling on original data:\n",
    "# summarize class distribution\n",
    "print(\"Before undersampling: \", Counter(y_train))"
   ]
  },
  {
   "cell_type": "code",
   "execution_count": 56,
   "metadata": {},
   "outputs": [],
   "source": [
    "# define undersampling strategy\n",
    "undersample = RandomUnderSampler(sampling_strategy='majority')"
   ]
  },
  {
   "cell_type": "code",
   "execution_count": 57,
   "metadata": {},
   "outputs": [],
   "source": [
    "# fit and apply the transform\n",
    "X_train_under, y_train_under = undersample.fit_resample(X_train, y_train)"
   ]
  },
  {
   "cell_type": "code",
   "execution_count": 58,
   "metadata": {},
   "outputs": [
    {
     "name": "stdout",
     "output_type": "stream",
     "text": [
      "After undersampling:  Counter({0: 3348, 1: 3348})\n",
      "ROC AUC score for undersampled data:  0.5579528743851617\n"
     ]
    }
   ],
   "source": [
    "# summarize class distribution\n",
    "print(\"After undersampling: \", Counter(y_train_under))\n",
    "#PART 2\n",
    "# import SVM libraries \n",
    "from sklearn.svm import SVC\n",
    "from sklearn.metrics import classification_report, roc_auc_score\n",
    "\n",
    "model=SVC()\n",
    "clf_under = model.fit(X_train_under, y_train_under)\n",
    "pred_under = clf_under.predict(X_test)\n",
    "\n",
    "print(\"ROC AUC score for undersampled data: \", roc_auc_score(y_test, pred_under))"
   ]
  },
  {
   "cell_type": "code",
   "execution_count": 59,
   "metadata": {},
   "outputs": [
    {
     "data": {
      "text/plain": [
       "(3000, 9)"
      ]
     },
     "execution_count": 59,
     "metadata": {},
     "output_type": "execute_result"
    }
   ],
   "source": [
    "X_test.shape"
   ]
  },
  {
   "cell_type": "code",
   "execution_count": 61,
   "metadata": {},
   "outputs": [
    {
     "data": {
      "text/plain": [
       "(6696, 9)"
      ]
     },
     "execution_count": 61,
     "metadata": {},
     "output_type": "execute_result"
    }
   ],
   "source": [
    "X_train_under.shape"
   ]
  },
  {
   "cell_type": "markdown",
   "metadata": {},
   "source": [
    "### Application of LogisticRegression on the original data that has been UnderSampled:\n"
   ]
  },
  {
   "cell_type": "code",
   "execution_count": 63,
   "metadata": {
    "scrolled": true
   },
   "outputs": [
    {
     "name": "stdout",
     "output_type": "stream",
     "text": [
      "0    1869\n",
      "1    1131\n",
      "Name: response_pred, dtype: int64\n"
     ]
    }
   ],
   "source": [
    "    \n",
    "logistic_model_u=LogisticRegression().fit(X_train_under, y_train_under)\n",
    "response_pred_u=logistic_model_u.predict(X_test)\n",
    "response_pred_u = pd.Series(response_pred_u)\n",
    "\n",
    "y_pred_u = pd.Series(response_pred_u, name='response_pred').value_counts()\n",
    "y_tes = y_test.value_counts()\n",
    "\n",
    "print(y_pred_u)\n"
   ]
  },
  {
   "cell_type": "code",
   "execution_count": 65,
   "metadata": {},
   "outputs": [
    {
     "name": "stdout",
     "output_type": "stream",
     "text": [
      "Precision Score of LogisticRegression for UnderSampled:  0.27674624226348365\n",
      "Recall Score of LogisticRegression for UnderSampled:  0.8528610354223434\n",
      "f1 Score of LogisticRegression for UnderSampled:  0.417890520694259\n"
     ]
    }
   ],
   "source": [
    "print('Precision Score of LogisticRegression for UnderSampled: ', precision_score(y_test, response_pred_u, pos_label=1))\n",
    "print('Recall Score of LogisticRegression for UnderSampled: ', recall_score(y_test, response_pred_u, pos_label=1))\n",
    "print('f1 Score of LogisticRegression for UnderSampled: ', f1_score(y_test, response_pred_u, pos_label=1))"
   ]
  },
  {
   "cell_type": "code",
   "execution_count": 66,
   "metadata": {},
   "outputs": [
    {
     "name": "stdout",
     "output_type": "stream",
     "text": [
      "              precision    recall  f1-score   support\n",
      "\n",
      "           0       0.97      0.69      0.81      2633\n",
      "           1       0.28      0.85      0.42       367\n",
      "\n",
      "    accuracy                           0.71      3000\n",
      "   macro avg       0.62      0.77      0.61      3000\n",
      "weighted avg       0.89      0.71      0.76      3000\n",
      "\n"
     ]
    }
   ],
   "source": [
    "# to see the overall report of the various scores from the confusion matrix:\n",
    "from sklearn.metrics import classification_report\n",
    "print(classification_report(y_test, response_pred_u))"
   ]
  },
  {
   "cell_type": "code",
   "execution_count": 67,
   "metadata": {},
   "outputs": [
    {
     "data": {
      "image/png": "[encoded data removed]",
      "text/plain": [
       "<Figure size 1080x432 with 1 Axes>"
      ]
     },
     "metadata": {
      "needs_background": "light"
     },
     "output_type": "display_data"
    }
   ],
   "source": [
    "# ROC_AUC score for LogisticRegression when undersampled:\n",
    "\n",
    "y_pred_proba_u = logistic_model_u.predict_proba(X_test)[::,1]\n",
    "fpr, tpr, _ = roc_curve(y_test,  y_pred_proba_u)\n",
    "auc = roc_auc_score(y_test, y_pred_proba_u)\n",
    "plt.plot(fpr,tpr,label=\"data 1, auc=\"+str(auc))\n",
    "plt.plot(fpr, tpr, color='darkorange', label='ROC curve (area = %0.2f)' % auc)\n",
    "plt.plot([0, 1], [0, 1], color='navy', linestyle='--')\n",
    "plt.xlim([0.0, 1.0])\n",
    "plt.ylim([0.0, 1.05])\n",
    "plt.xlabel('False Positive Rate')\n",
    "plt.ylabel('True Positive Rate')\n",
    "plt.title('Receiver Operating Characteristic - Undersampled')\n",
    "plt.legend(loc=\"lower right\")\n",
    "plt.show()"
   ]
  },
  {
   "cell_type": "markdown",
   "metadata": {},
   "source": [
    "##### Once we applied the  DecisionTree on the original data that has been UnderSampled, the result did not improve, so we are not presenting it here.\n"
   ]
  },
  {
   "cell_type": "markdown",
   "metadata": {},
   "source": [
    "### Dealing with imbalanced data - Over Sampling\n",
    "\n",
    "\n",
    "For over-sampling techniques, SMOTE (Synthetic Minority Oversampling Technique) is considered as one of the most popular and influential data sampling algorithms in ML and data mining. With SMOTE, the minority class is over-sampled by creating “synthetic” examples rather than by over-sampling with replacement. These introduced synthetic examples are based along the line segments joining a defined number of k minority class nearest neighbours, which is in the imblearn package is set at five by default.\n"
   ]
  },
  {
   "cell_type": "code",
   "execution_count": 71,
   "metadata": {},
   "outputs": [
    {
     "name": "stdout",
     "output_type": "stream",
     "text": [
      "After oversampling:  Counter({0: 23652, 1: 23652})\n"
     ]
    }
   ],
   "source": [
    "# define oversampling strategy\n",
    "y=insurance_1['Response']\n",
    "\n",
    "X=insurance_1[['Age', 'Annual_Premium','Vintage',\n",
    "               'Gender','Driving_License', 'Previously_Insured', \n",
    "               'Vehicle_Damage', 'VA_1_2_year','VA_below_1_year']]\n",
    "X_train, X_test, y_train, y_test = train_test_split(X, y, test_size=0.1, random_state=100)\n",
    "\n",
    "from imblearn.over_sampling import SMOTE\n",
    "\n",
    "SMOTE = SMOTE()\n",
    "\n",
    "# fit and apply the transform\n",
    "X_train_SMOTE, y_train_SMOTE = SMOTE.fit_resample(X_train, y_train)\n",
    "\n",
    "# summarize class distribution\n",
    "print(\"After oversampling: \",Counter(y_train_SMOTE))"
   ]
  },
  {
   "cell_type": "markdown",
   "metadata": {},
   "source": [
    "#### Application of the LogisticRegression on the original data that has been OverSampled:\n"
   ]
  },
  {
   "cell_type": "code",
   "execution_count": 74,
   "metadata": {},
   "outputs": [
    {
     "name": "stdout",
     "output_type": "stream",
     "text": [
      "0    1904\n",
      "1    1096\n",
      "Name: response_pred, dtype: int64\n",
      "Accuracy: 0.7196666666666667\n",
      "0.28375912408759124\n",
      "0.8474114441416893\n",
      "0.42515379357484623\n"
     ]
    }
   ],
   "source": [
    "logistic_model_o=LogisticRegression().fit(X_train_SMOTE, y_train_SMOTE)\n",
    "response_pred_o=logistic_model_o.predict(X_test)\n",
    "response_pred_o = pd.Series(response_pred_o)\n",
    "\n",
    "y_pred_o = pd.Series(response_pred_o, name='response_pred').value_counts()\n",
    "y_tes = y_test.value_counts()\n",
    "\n",
    "print(y_pred_o)\n",
    "print(\"Accuracy:\", accuracy_score(y_test, response_pred_o))\n",
    "\n",
    "print(precision_score(y_test, response_pred_o, pos_label=1))\n",
    "print(recall_score(y_test, response_pred_o, pos_label=1))\n",
    "print(f1_score(y_test, response_pred_o, pos_label=1))"
   ]
  },
  {
   "cell_type": "markdown",
   "metadata": {},
   "source": [
    "### ROC Curve for OverSampling - case of Logistic regression on Original data\n",
    "Receiver Operating Characteristic(ROC) curve is a plot of the true positive rate against the false positive rate. It shows the tradeoff between sensitivity and specificity.\n",
    "\n",
    "Example of Receiver Operating Characteristic (ROC) metric to evaluate classifier output quality.\n",
    "\n",
    "ROC curves typically feature true positive rate on the Y axis, and false positive rate on the X axis. This means that the top left corner of the plot is the “ideal” point - a false positive rate of zero, and a true positive rate of one. This is not very realistic, but it does mean that a larger area under the curve (AUC) is usually better.\n",
    "\n",
    "The “steepness” of ROC curves is also important, since it is ideal to maximize the true positive rate while minimizing the false positive rate."
   ]
  },
  {
   "cell_type": "code",
   "execution_count": 77,
   "metadata": {},
   "outputs": [
    {
     "data": {
      "image/png": "[encoded data removed]",
      "text/plain": [
       "<Figure size 1080x432 with 1 Axes>"
      ]
     },
     "metadata": {
      "needs_background": "light"
     },
     "output_type": "display_data"
    }
   ],
   "source": [
    "# ROC for Logistic Regression for Over Sample data:\n",
    "from sklearn.metrics import roc_auc_score, roc_curve\n",
    "\n",
    "y_pred_proba_o = logistic_model_o.predict_proba(X_test)[::,1]\n",
    "fpr, tpr, _ = roc_curve(y_test,  y_pred_proba_o)\n",
    "auc = roc_auc_score(y_test, y_pred_proba_o)\n",
    "plt.plot(fpr,tpr,label=\"data 1, auc=\"+str(auc))\n",
    "plt.plot(fpr, tpr, color='darkorange', label='ROC curve (area = %0.2f)' % auc)\n",
    "plt.plot([0, 1], [0, 1], color='navy', linestyle='--')\n",
    "plt.xlim([0.0, 1.0])\n",
    "plt.ylim([0.0, 1.05])\n",
    "plt.xlabel('False Positive Rate')\n",
    "plt.ylabel('True Positive Rate')\n",
    "plt.title('Receiver operating characteristic')\n",
    "plt.legend(loc=\"lower right\")\n",
    "plt.show()\n"
   ]
  },
  {
   "cell_type": "markdown",
   "metadata": {},
   "source": [
    "As we can see, the ROC score was 0.84 for the case of UnderSampling model and 0.83 in the case of OverSampling, therefore we decided to proceed with UnderSampled data."
   ]
  },
  {
   "cell_type": "markdown",
   "metadata": {},
   "source": [
    "### Feature importance using LogisticRegression on original data undersampled, as this was the best model with highest ROC_AUC score\n"
   ]
  },
  {
   "cell_type": "code",
   "execution_count": 82,
   "metadata": {
    "scrolled": false
   },
   "outputs": [
    {
     "name": "stdout",
     "output_type": "stream",
     "text": [
      "Optimization terminated successfully.\n",
      "         Current function value: 0.443650\n",
      "         Iterations 9\n",
      "                           Logit Regression Results                           \n",
      "==============================================================================\n",
      "Dep. Variable:               Response   No. Observations:                 6696\n",
      "Model:                          Logit   Df Residuals:                     6687\n",
      "Method:                           MLE   Df Model:                            8\n",
      "Date:                Sat, 20 Feb 2021   Pseudo R-squ.:                  0.3599\n",
      "Time:                        11:35:23   Log-Likelihood:                -2970.7\n",
      "converged:                       True   LL-Null:                       -4641.3\n",
      "Covariance Type:            nonrobust   LLR p-value:                     0.000\n",
      "======================================================================================\n",
      "                         coef    std err          z      P>|z|      [0.025      0.975]\n",
      "--------------------------------------------------------------------------------------\n",
      "Age                   -0.0242      0.003     -7.837      0.000      -0.030      -0.018\n",
      "Annual_Premium      3.679e-06   1.82e-06      2.019      0.044    1.07e-07    7.25e-06\n",
      "Vintage               -0.0003      0.000     -0.752      0.452      -0.001       0.000\n",
      "Gender                 0.0104      0.065      0.160      0.873      -0.116       0.137\n",
      "Driving_License        0.2084      0.239      0.873      0.382      -0.259       0.676\n",
      "Previously_Insured    -3.5917      0.270    -13.318      0.000      -4.120      -3.063\n",
      "Vehicle_Damage         2.0597      0.141     14.609      0.000       1.783       2.336\n",
      "VA_1_2_year           -0.1688      0.114     -1.484      0.138      -0.392       0.054\n",
      "VA_below_1_year       -1.4762      0.150     -9.820      0.000      -1.771      -1.182\n",
      "======================================================================================\n"
     ]
    }
   ],
   "source": [
    "import statsmodels.api as sm\n",
    "X_u=X_train_under\n",
    "y_u= y_train_under\n",
    "\n",
    "logit_u = sm.Logit(y_u, X_u)\n",
    "model_u=logit_u.fit()\n",
    "print(model_u.summary())"
   ]
  },
  {
   "cell_type": "markdown",
   "metadata": {},
   "source": [
    "#### Interpretation of the Logit results:\n",
    "\n",
    "- Age: the older people are less likely to sign up for insurance.\n",
    "- Annual premium: When the annual premium is high, it is more likely that people sign up.  \n",
    "- Vintage: the coeff. is negative, means the longer the when customers are with the company, th eless the chance to sign up for new insurance.\n",
    "- The coeff. for Gender (1=male) is positive, male customers are more likely to sign up for insurance.   \n",
    "- The coeff. for Driving License (0 = no, 1=yes) is positive: people who have driving license are more likely to sign up for insurance.\n",
    "- Previously Insured(1= Customer already has Vehicle Insurance): people who have already have insurance are less likely to sign up for insurance. \n",
    "- Vehicle Damage(1= Customer got his/her vehicle damaged in the past):  Customer whom their vehicle damaged in the past are more likely to sign up for insurance. \n",
    "- Vehicle age: customers whom their cars are '1-2 Year' old are less likely to sign up for insurance as compared to customers whom their cars are '> 2 Years' old. \n",
    "- Vehicle age: customers whom their cars are '< 1 Year' old are less likely to sign up for insurance as compared to customers whom their cars are '> 2 Years' old. \n"
   ]
  },
  {
   "cell_type": "markdown",
   "metadata": {},
   "source": [
    "In order to get a numerical gauge of the impact of each feature in the LogisticRegression model, the Odds Ratio is used. Odds ratios that are greater than 1 indicate that the event is more likely to occur as the predictor increases. Odds ratios that are less than 1 indicate that the event is less likely to occur as the predictor increases.\n",
    "\n",
    "\n",
    "For categorical predictors, the odds ratio compares the odds of the event occurring at 2 different levels of the predictor. Odds ratios that are greater than 1 indicate that the event is more likely at level 1. Odds ratios that are less than 1 indicate that the event is less likely at level 1. "
   ]
  },
  {
   "cell_type": "code",
   "execution_count": 83,
   "metadata": {
    "scrolled": true
   },
   "outputs": [
    {
     "name": "stdout",
     "output_type": "stream",
     "text": [
      "Age                   0.976072\n",
      "Annual_Premium        1.000004\n",
      "Vintage               0.999717\n",
      "Gender                1.010406\n",
      "Driving_License       1.231740\n",
      "Previously_Insured    0.027551\n",
      "Vehicle_Damage        7.843875\n",
      "VA_1_2_year           0.844683\n",
      "VA_below_1_year       0.228496\n",
      "dtype: float64\n"
     ]
    }
   ],
   "source": [
    "print(np.exp(model_u.params))"
   ]
  },
  {
   "cell_type": "markdown",
   "metadata": {},
   "source": [
    "- Age: we can observe that Age has an ODDS Ratio of 0.976072, which indicates that one unit increase in Age increases the odds of signing up for insurance by 0.976072 times.\n",
    "\n",
    "\n",
    "- Annual Premium: we can observe that Annual Premium has an ODDS Ratio of 1.000004, which indicates that one unit increase in Annual Premium increases the odds of signing up for insurance by 1.000004 times.\n",
    "\n",
    "\n",
    "- Vintage: we can observe that vintage has an ODDS Ratio of 0.999717, which indicates that one unit increase in vintage increases the odds of signing up for insurance by 0.999717 times.\n",
    "\n",
    "\n",
    "\n",
    "Odds ratios interpretation for categorical variables:\n",
    "\n",
    "\n",
    "Odds ratios that are greater than 1 indicate that the people are more likely to sign up for insurance. Odds ratios that are less than 1 indicate that people are less likely to sign up for insurance:\n",
    "\n",
    "\n",
    "- Gender: The odds ratio is 1.010406, which indicates that the odds that Male customers are more likely to sign up for insurance as compared to the female customers.\n",
    "\n",
    "\n",
    "- Driving_License: The odds ratio is 1.231740, which indicates that the odds that the customers with driving license  are more likely to sign up for insurance as compared to the customers without driving license.\n",
    "\n",
    "\n",
    "- Previously_Insured: The odds ratio is 0.027551 (less than 1), which indicates that the odds that the customers who previously insured are less likely to sign up for insurance as compared to the new customers.\n",
    "\n",
    "\n",
    "- Vehicle_Damage: The odds ratio is 7.843875, which indicates that the odds that customers with vehicle damaged are more likely to sign up for insurance as compared to the customers with no vehicle damage.\n",
    "\n",
    "\n",
    "- vehicle_Age (1-2 Year): The odds ratio is 0.844683 (less than 1), which indicates that the odds that the customers whose vehicle is '1-2 years' old are less likely to sign up for insurance as compared to the customers whose vehicle is '> 2 Years' old.\n",
    "\n",
    "\n",
    "- vehicle_Age (< 1 Year): The odds ratio is 0.228496 (less than 1), which indicates that the odds that the customers whose vehicle is '< 1 Year' old are less likely to sign up for insurance as compared to the customers whose vehicle is '> 2 Years' old.\n"
   ]
  },
  {
   "cell_type": "code",
   "execution_count": 86,
   "metadata": {},
   "outputs": [
    {
     "data": {
      "text/html": [
       "<div>\n",
       "<style scoped>\n",
       "    .dataframe tbody tr th:only-of-type {\n",
       "        vertical-align: middle;\n",
       "    }\n",
       "\n",
       "    .dataframe tbody tr th {\n",
       "        vertical-align: top;\n",
       "    }\n",
       "\n",
       "    .dataframe thead th {\n",
       "        text-align: right;\n",
       "    }\n",
       "</style>\n",
       "<table border=\"1\" class=\"dataframe\">\n",
       "  <thead>\n",
       "    <tr style=\"text-align: right;\">\n",
       "      <th></th>\n",
       "      <th>Actual</th>\n",
       "      <th>Predicted</th>\n",
       "    </tr>\n",
       "  </thead>\n",
       "  <tbody>\n",
       "    <tr>\n",
       "      <th>6102</th>\n",
       "      <td>1</td>\n",
       "      <td>0.762260</td>\n",
       "    </tr>\n",
       "    <tr>\n",
       "      <th>2539</th>\n",
       "      <td>0</td>\n",
       "      <td>0.739932</td>\n",
       "    </tr>\n",
       "    <tr>\n",
       "      <th>21576</th>\n",
       "      <td>1</td>\n",
       "      <td>0.531015</td>\n",
       "    </tr>\n",
       "    <tr>\n",
       "      <th>19574</th>\n",
       "      <td>0</td>\n",
       "      <td>0.584705</td>\n",
       "    </tr>\n",
       "    <tr>\n",
       "      <th>12804</th>\n",
       "      <td>0</td>\n",
       "      <td>0.140971</td>\n",
       "    </tr>\n",
       "  </tbody>\n",
       "</table>\n",
       "</div>"
      ],
      "text/plain": [
       "       Actual  Predicted\n",
       "6102        1   0.762260\n",
       "2539        0   0.739932\n",
       "21576       1   0.531015\n",
       "19574       0   0.584705\n",
       "12804       0   0.140971"
      ]
     },
     "execution_count": 86,
     "metadata": {},
     "output_type": "execute_result"
    }
   ],
   "source": [
    "# using LogisticRegression in Statsmodel provide us with the probability of each customer to take up insurance:\n",
    "y_pred=model_u.predict(X_test)\n",
    "\n",
    "df=pd.DataFrame({'Actual':y_test, 'Predicted':y_pred})\n",
    "df.head()"
   ]
  },
  {
   "cell_type": "markdown",
   "metadata": {},
   "source": [
    "### Real word test"
   ]
  },
  {
   "cell_type": "markdown",
   "metadata": {},
   "source": [
    "In order to test our best performed model, i.e., the 'logistic_model_u', we produce a pickle:"
   ]
  },
  {
   "cell_type": "code",
   "execution_count": 89,
   "metadata": {},
   "outputs": [],
   "source": [
    "import pickle"
   ]
  },
  {
   "cell_type": "code",
   "execution_count": 90,
   "metadata": {},
   "outputs": [],
   "source": [
    "logistic_model_u=LogisticRegression().fit(X_train_under, y_train_under)"
   ]
  },
  {
   "cell_type": "code",
   "execution_count": 91,
   "metadata": {},
   "outputs": [],
   "source": [
    "pickle.dump(logistic_model_u, open('my_model.pickle', 'wb'))"
   ]
  },
  {
   "cell_type": "code",
   "execution_count": 104,
   "metadata": {},
   "outputs": [],
   "source": [
    "def response():\n",
    "    \n",
    "    Age= input('Please enter your age - range of 20 and above:')\n",
    "    while re.search('[0-9]',Age) is None:\n",
    "        print('Make sure your age is in numbers') \n",
    "        Age= input('Please enter your age - range of 20 and above:')\n",
    "    Annual_Premium = input('Please enter your desired Annual Premium - range of 2630 and more:')\n",
    "    while re.search('[0-9]',Annual_Premium) is None:\n",
    "        print('Make sure your Annual Premium is in numbers')\n",
    "        Annual_Premium = input('Please enter your desired Annual Premium - range of 2630 and more:')\n",
    "    Vintage = input('How many day have you been associated with our company - up to 300 days :')\n",
    "    while re.search('[0-9]',Vintage) is None:\n",
    "        print('Make sure your Vintage is in numbers')\n",
    "        Vintage = input('How many day have you been associated with our company - up to 300 days :')\n",
    "\n",
    "    Gender = input('Please enter your gender, Male=1, Female=0 :')\n",
    "    while re.search('[0-1]',Gender) is None:\n",
    "        print('Make sure your Gender is either 1 or 0')\n",
    "        Gender = input('Please enter your gender, Male=1, Female=0 :')\n",
    "\n",
    "    Driving_License = input('Do you have a Driving License? Yes=1, No=0 :')\n",
    "    while re.search('[0-1]',Driving_License) is None:\n",
    "        print('Make sure your Driving License either 1 or 0')\n",
    "        Driving_License = input('Do you have a Driving License? Yes=1, No=0 :')\n",
    "\n",
    "    Previously_Insured= input('Have you been previously insured with our company? Yes=1, No=0 :')\n",
    "    while re.search('[0-1]',Previously_Insured) is None:\n",
    "        print('Make sure that the value is either 1 or 0')\n",
    "        Previously_Insured= input('Have you been previously insured with our company? Yes=1, No=0 :')\n",
    "\n",
    "    Vehicle_Damage = input('Has your vehicle been damaged before? Yes=1, No=0 :')\n",
    "    while re.search('[0-1]',Vehicle_Damage) is None:\n",
    "        print('Make sure that your entry for vehicle damage is either 1 or 0')\n",
    "        Vehicle_Damage = input('Has your vehicle been damaged before? Yes=1, No=0 :')\n",
    "\n",
    "    VA_1_2_year = input('Is your vehicle 1-2 years old? Yes=1, No=0, if your answer is Yes, then please choose No in the next question:')\n",
    "    while re.search('[0-1]',VA_1_2_year) is None:\n",
    "        print('Make sure your entry is either 1 or 0')\n",
    "        VA_1_2_year = input('Is your vehicle 1-2 years old? Yes=1, No=0, if your answer is Yes, then please choose No in the next question:')\n",
    "\n",
    "    VA_below_1_year = input('Is your vehicle less than 1 year old? Yes=1, No=0: ')\n",
    "    while re.search('[0-1]',VA_below_1_year) is None:\n",
    "        print('Make sure your entry is either 1 or 0')\n",
    "        VA_below_1_year = input('Is your vehicle less than 1 year old? Yes=1, No=0: ')\n",
    "\n",
    "    #logistic_model_u=LogisticRegression().fit(X_train_under, y_train_under)\n",
    "    loaded_model = pickle.load(open('my_model.pickle', 'rb'))\n",
    "    parameters = ['Age', 'Annual_Premium', 'Vintage', 'Gender', 'Driving_License',\n",
    "       'Previously_Insured', 'Vehicle_Damage', 'VA_1_2_year','VA_below_1_year']\n",
    "    my_predictors = [Age, Annual_Premium, Vintage, Gender, Driving_License,\n",
    "       Previously_Insured, Vehicle_Damage, VA_1_2_year ,VA_below_1_year]\n",
    "    resp_data = dict(zip(parameters, my_predictors))\n",
    "    resp_df = pd.DataFrame(resp_data, index=[0])\n",
    "    #resp_y_pred= logistic_model_u.predict(resp_df)\n",
    "    resp_y_pred= loaded_model.predict(resp_df)\n",
    "\n",
    "    if resp_y_pred==1:\n",
    "        return 'Hooray! This client is taking up our insurance plan'\n",
    "    elif resp_y_pred==0:\n",
    "        return 'Oops! This client is not taking up our insurance plan'\n",
    "    #return f\"Response: {float(resp_y_pred)}\""
   ]
  },
  {
   "cell_type": "code",
   "execution_count": 105,
   "metadata": {},
   "outputs": [
    {
     "name": "stdout",
     "output_type": "stream",
     "text": [
      "Please enter your age - range of 20 and above:40\n",
      "Please enter your desired Annual Premium - range 2630 and more:2630\n",
      "How many day have you been associated with our company - up to 300 days :219\n",
      "Please enter your gender, Male=1, Female=0 :1\n",
      "Do you have a Driving License? Yes=1, No=0 :1\n",
      "Have you been previously insured with our company? Yes=1, No=0 :0\n",
      "Has your vehicle been damaged before? Yes=1, No=0 :1\n",
      "Is your vehicle 1-2 years old? Yes=1, No=0, if your answer is yes, then please choose No in the next question:1\n",
      "Is your vehicle less than 1 year old? Yes=1, No=0: 0\n"
     ]
    },
    {
     "data": {
      "text/plain": [
       "'Hooray! This client is taking up our insurance plan'"
      ]
     },
     "execution_count": 105,
     "metadata": {},
     "output_type": "execute_result"
    }
   ],
   "source": [
    "response()"
   ]
  },
  {
   "cell_type": "code",
   "execution_count": null,
   "metadata": {},
   "outputs": [],
   "source": []
  }
 ],
 "metadata": {
  "kernelspec": {
   "display_name": "Python 3",
   "language": "python",
   "name": "python3"
  },
  "language_info": {
   "codemirror_mode": {
    "name": "ipython",
    "version": 3
   },
   "file_extension": ".py",
   "mimetype": "text/x-python",
   "name": "python",
   "nbconvert_exporter": "python",
   "pygments_lexer": "ipython3",
   "version": "3.8.3"
  }
 },
 "nbformat": 4,
 "nbformat_minor": 4
}
