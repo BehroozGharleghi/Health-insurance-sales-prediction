{
 "cells": [
  {
   "cell_type": "code",
   "execution_count": 1,
   "metadata": {},
   "outputs": [],
   "source": [
    "import pickle\n",
    "import re\n",
    "import pandas as pd"
   ]
  },
  {
   "cell_type": "code",
   "execution_count": 2,
   "metadata": {},
   "outputs": [],
   "source": [
    "def response():\n",
    "    \n",
    "    Age= input('Please enter your age - range of 20 and above:')\n",
    "    while re.search('[0-9]',Age) is None:\n",
    "        print('Make sure your age is in numbers') \n",
    "        Age= input('Please enter your age - range of 20 and above:')\n",
    "    Annual_Premium = input('Please enter your desired Annual Premium - range of 2630 and more:')\n",
    "    while re.search('[0-9]',Annual_Premium) is None:\n",
    "        print('Make sure your Annual Premium is in numbers')\n",
    "        Annual_Premium = input('Please enter your desired Annual Premium - range of 2630 and more:')\n",
    "    Vintage = input('How many day have you been associated with our company - up to 300 days :')\n",
    "    while re.search('[0-9]',Vintage) is None:\n",
    "        print('Make sure your Vintage is in numbers')\n",
    "        Vintage = input('How many day have you been associated with our company - up to 300 days :')\n",
    "\n",
    "    Gender = input('Please enter your gender, Male=1, Female=0 :')\n",
    "    while re.search('[0-1]',Gender) is None:\n",
    "        print('Make sure your Gender is either 1 or 0')\n",
    "        Gender = input('Please enter your gender, Male=1, Female=0 :')\n",
    "\n",
    "    Driving_License = input('Do you have a Driving License? Yes=1, No=0 :')\n",
    "    while re.search('[0-1]',Driving_License) is None:\n",
    "        print('Make sure your Driving License either 1 or 0')\n",
    "        Driving_License = input('Do you have a Driving License? Yes=1, No=0 :')\n",
    "\n",
    "    Previously_Insured= input('Have you been previously insured with our company? Yes=1, No=0 :')\n",
    "    while re.search('[0-1]',Previously_Insured) is None:\n",
    "        print('Make sure that the value is either 1 or 0')\n",
    "        Previously_Insured= input('Have you been previously insured with our company? Yes=1, No=0 :')\n",
    "\n",
    "    Vehicle_Damage = input('Has your vehicle been damaged before? Yes=1, No=0 :')\n",
    "    while re.search('[0-1]',Vehicle_Damage) is None:\n",
    "        print('Make sure that your entry for vehicle damage is either 1 or 0')\n",
    "        Vehicle_Damage = input('Has your vehicle been damaged before? Yes=1, No=0 :')\n",
    "\n",
    "    VA_1_2_year = input('Is your vehicle 1-2 years old? Yes=1, No=0, if your answer is Yes, then please choose No in the next question:')\n",
    "    while re.search('[0-1]',VA_1_2_year) is None:\n",
    "        print('Make sure your entry is either 1 or 0')\n",
    "        VA_1_2_year = input('Is your vehicle 1-2 years old? Yes=1, No=0, if your answer is Yes, then please choose No in the next question:')\n",
    "\n",
    "    VA_below_1_year = input('Is your vehicle less than 1 year old? Yes=1, No=0: ')\n",
    "    while re.search('[0-1]',VA_below_1_year) is None:\n",
    "        print('Make sure your entry is either 1 or 0')\n",
    "        VA_below_1_year = input('Is your vehicle less than 1 year old? Yes=1, No=0: ')\n",
    "\n",
    "    #logistic_model_u=LogisticRegression().fit(X_train_under, y_train_under)\n",
    "    loaded_model = pickle.load(open('my_model.pickle', 'rb'))\n",
    "    parameters = ['Age', 'Annual_Premium', 'Vintage', 'Gender', 'Driving_License',\n",
    "       'Previously_Insured', 'Vehicle_Damage', 'VA_1_2_year','VA_below_1_year']\n",
    "    my_predictors = [Age, Annual_Premium, Vintage, Gender, Driving_License,\n",
    "       Previously_Insured, Vehicle_Damage, VA_1_2_year ,VA_below_1_year]\n",
    "    resp_data = dict(zip(parameters, my_predictors))\n",
    "    resp_df = pd.DataFrame(resp_data, index=[0])\n",
    "    #resp_y_pred= logistic_model_u.predict(resp_df)\n",
    "    resp_y_pred= loaded_model.predict(resp_df)\n",
    "\n",
    "    if resp_y_pred==1:\n",
    "        return 'Hooray! This client is taking up our insurance plan'\n",
    "    elif resp_y_pred==0:\n",
    "        return 'Oops! This client is not taking up our insurance plan'\n",
    "    #return f\"Response: {float(resp_y_pred)}\""
   ]
  },
  {
   "cell_type": "code",
   "execution_count": 3,
   "metadata": {},
   "outputs": [
    {
     "name": "stdout",
     "output_type": "stream",
     "text": [
      "Please enter your age - range of 20 and above:55\n",
      "Please enter your desired Annual Premium - range of 2630 and more:34\n",
      "How many day have you been associated with our company - up to 300 days :55\n",
      "Please enter your gender, Male=1, Female=0 :1\n",
      "Do you have a Driving License? Yes=1, No=0 :1\n",
      "Have you been previously insured with our company? Yes=1, No=0 :1\n",
      "Has your vehicle been damaged before? Yes=1, No=0 :1\n",
      "Is your vehicle 1-2 years old? Yes=1, No=0, if your answer is Yes, then please choose No in the next question:1\n",
      "Is your vehicle less than 1 year old? Yes=1, No=0: 0\n",
      "Oops! This client is not taking up our insurance plan\n"
     ]
    }
   ],
   "source": [
    "print(response())"
   ]
  },
  {
   "cell_type": "code",
   "execution_count": null,
   "metadata": {},
   "outputs": [],
   "source": []
  }
 ],
 "metadata": {
  "kernelspec": {
   "display_name": "Python 3",
   "language": "python",
   "name": "python3"
  },
  "language_info": {
   "codemirror_mode": {
    "name": "ipython",
    "version": 3
   },
   "file_extension": ".py",
   "mimetype": "text/x-python",
   "name": "python",
   "nbconvert_exporter": "python",
   "pygments_lexer": "ipython3",
   "version": "3.8.3"
  }
 },
 "nbformat": 4,
 "nbformat_minor": 4
}
